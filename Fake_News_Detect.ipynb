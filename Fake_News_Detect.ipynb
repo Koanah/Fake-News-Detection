{
  "nbformat": 4,
  "nbformat_minor": 0,
  "metadata": {
    "colab": {
      "provenance": [],
      "gpuType": "T4",
      "include_colab_link": true
    },
    "kernelspec": {
      "name": "python3",
      "display_name": "Python 3"
    },
    "language_info": {
      "name": "python"
    },
    "accelerator": "GPU"
  },
  "cells": [
    {
      "cell_type": "markdown",
      "metadata": {
        "id": "view-in-github",
        "colab_type": "text"
      },
      "source": [
        "<a href=\"https://colab.research.google.com/github/Koanah/Fake-News-Detection/blob/main/Fake_News_Detect.ipynb\" target=\"_parent\"><img src=\"https://colab.research.google.com/assets/colab-badge.svg\" alt=\"Open In Colab\"/></a>"
      ]
    },
    {
      "cell_type": "code",
      "source": [
        "!pip install gensim"
      ],
      "metadata": {
        "id": "6OzVAt4_DzCd",
        "collapsed": true
      },
      "execution_count": null,
      "outputs": []
    },
    {
      "cell_type": "code",
      "source": [
        "import gensim"
      ],
      "metadata": {
        "id": "Wnw2xcYqBFzx"
      },
      "execution_count": null,
      "outputs": []
    },
    {
      "cell_type": "code",
      "execution_count": null,
      "metadata": {
        "id": "kfmuNHRWTiLD"
      },
      "outputs": [],
      "source": [
        "import numpy as np\n",
        "import pandas as pd\n",
        "import matplotlib.pyplot as plt\n",
        "import seaborn as sns\n",
        "import nltk\n",
        "import re\n",
        "from wordcloud import WordCloud"
      ]
    },
    {
      "cell_type": "code",
      "source": [
        "!pip install tensorflow"
      ],
      "metadata": {
        "colab": {
          "base_uri": "https://localhost:8080/"
        },
        "collapsed": true,
        "id": "2aI8gFjmV4fP",
        "outputId": "f5977ad1-ffcb-4775-c653-c321dfa297b0"
      },
      "execution_count": null,
      "outputs": [
        {
          "output_type": "stream",
          "name": "stdout",
          "text": [
            "Requirement already satisfied: tensorflow in /usr/local/lib/python3.11/dist-packages (2.18.0)\n",
            "Requirement already satisfied: absl-py>=1.0.0 in /usr/local/lib/python3.11/dist-packages (from tensorflow) (1.4.0)\n",
            "Requirement already satisfied: astunparse>=1.6.0 in /usr/local/lib/python3.11/dist-packages (from tensorflow) (1.6.3)\n",
            "Requirement already satisfied: flatbuffers>=24.3.25 in /usr/local/lib/python3.11/dist-packages (from tensorflow) (25.2.10)\n",
            "Requirement already satisfied: gast!=0.5.0,!=0.5.1,!=0.5.2,>=0.2.1 in /usr/local/lib/python3.11/dist-packages (from tensorflow) (0.6.0)\n",
            "Requirement already satisfied: google-pasta>=0.1.1 in /usr/local/lib/python3.11/dist-packages (from tensorflow) (0.2.0)\n",
            "Requirement already satisfied: libclang>=13.0.0 in /usr/local/lib/python3.11/dist-packages (from tensorflow) (18.1.1)\n",
            "Requirement already satisfied: opt-einsum>=2.3.2 in /usr/local/lib/python3.11/dist-packages (from tensorflow) (3.4.0)\n",
            "Requirement already satisfied: packaging in /usr/local/lib/python3.11/dist-packages (from tensorflow) (24.2)\n",
            "Requirement already satisfied: protobuf!=4.21.0,!=4.21.1,!=4.21.2,!=4.21.3,!=4.21.4,!=4.21.5,<6.0.0dev,>=3.20.3 in /usr/local/lib/python3.11/dist-packages (from tensorflow) (5.29.5)\n",
            "Requirement already satisfied: requests<3,>=2.21.0 in /usr/local/lib/python3.11/dist-packages (from tensorflow) (2.32.3)\n",
            "Requirement already satisfied: setuptools in /usr/local/lib/python3.11/dist-packages (from tensorflow) (75.2.0)\n",
            "Requirement already satisfied: six>=1.12.0 in /usr/local/lib/python3.11/dist-packages (from tensorflow) (1.17.0)\n",
            "Requirement already satisfied: termcolor>=1.1.0 in /usr/local/lib/python3.11/dist-packages (from tensorflow) (3.1.0)\n",
            "Requirement already satisfied: typing-extensions>=3.6.6 in /usr/local/lib/python3.11/dist-packages (from tensorflow) (4.14.0)\n",
            "Requirement already satisfied: wrapt>=1.11.0 in /usr/local/lib/python3.11/dist-packages (from tensorflow) (1.17.2)\n",
            "Requirement already satisfied: grpcio<2.0,>=1.24.3 in /usr/local/lib/python3.11/dist-packages (from tensorflow) (1.73.0)\n",
            "Requirement already satisfied: tensorboard<2.19,>=2.18 in /usr/local/lib/python3.11/dist-packages (from tensorflow) (2.18.0)\n",
            "Requirement already satisfied: keras>=3.5.0 in /usr/local/lib/python3.11/dist-packages (from tensorflow) (3.8.0)\n",
            "Requirement already satisfied: numpy<2.1.0,>=1.26.0 in /usr/local/lib/python3.11/dist-packages (from tensorflow) (1.26.4)\n",
            "Requirement already satisfied: h5py>=3.11.0 in /usr/local/lib/python3.11/dist-packages (from tensorflow) (3.14.0)\n",
            "Requirement already satisfied: ml-dtypes<0.5.0,>=0.4.0 in /usr/local/lib/python3.11/dist-packages (from tensorflow) (0.4.1)\n",
            "Requirement already satisfied: tensorflow-io-gcs-filesystem>=0.23.1 in /usr/local/lib/python3.11/dist-packages (from tensorflow) (0.37.1)\n",
            "Requirement already satisfied: wheel<1.0,>=0.23.0 in /usr/local/lib/python3.11/dist-packages (from astunparse>=1.6.0->tensorflow) (0.45.1)\n",
            "Requirement already satisfied: rich in /usr/local/lib/python3.11/dist-packages (from keras>=3.5.0->tensorflow) (13.9.4)\n",
            "Requirement already satisfied: namex in /usr/local/lib/python3.11/dist-packages (from keras>=3.5.0->tensorflow) (0.1.0)\n",
            "Requirement already satisfied: optree in /usr/local/lib/python3.11/dist-packages (from keras>=3.5.0->tensorflow) (0.16.0)\n",
            "Requirement already satisfied: charset-normalizer<4,>=2 in /usr/local/lib/python3.11/dist-packages (from requests<3,>=2.21.0->tensorflow) (3.4.2)\n",
            "Requirement already satisfied: idna<4,>=2.5 in /usr/local/lib/python3.11/dist-packages (from requests<3,>=2.21.0->tensorflow) (3.10)\n",
            "Requirement already satisfied: urllib3<3,>=1.21.1 in /usr/local/lib/python3.11/dist-packages (from requests<3,>=2.21.0->tensorflow) (2.4.0)\n",
            "Requirement already satisfied: certifi>=2017.4.17 in /usr/local/lib/python3.11/dist-packages (from requests<3,>=2.21.0->tensorflow) (2025.6.15)\n",
            "Requirement already satisfied: markdown>=2.6.8 in /usr/local/lib/python3.11/dist-packages (from tensorboard<2.19,>=2.18->tensorflow) (3.8)\n",
            "Requirement already satisfied: tensorboard-data-server<0.8.0,>=0.7.0 in /usr/local/lib/python3.11/dist-packages (from tensorboard<2.19,>=2.18->tensorflow) (0.7.2)\n",
            "Requirement already satisfied: werkzeug>=1.0.1 in /usr/local/lib/python3.11/dist-packages (from tensorboard<2.19,>=2.18->tensorflow) (3.1.3)\n",
            "Requirement already satisfied: MarkupSafe>=2.1.1 in /usr/local/lib/python3.11/dist-packages (from werkzeug>=1.0.1->tensorboard<2.19,>=2.18->tensorflow) (3.0.2)\n",
            "Requirement already satisfied: markdown-it-py>=2.2.0 in /usr/local/lib/python3.11/dist-packages (from rich->keras>=3.5.0->tensorflow) (3.0.0)\n",
            "Requirement already satisfied: pygments<3.0.0,>=2.13.0 in /usr/local/lib/python3.11/dist-packages (from rich->keras>=3.5.0->tensorflow) (2.19.1)\n",
            "Requirement already satisfied: mdurl~=0.1 in /usr/local/lib/python3.11/dist-packages (from markdown-it-py>=2.2.0->rich->keras>=3.5.0->tensorflow) (0.1.2)\n"
          ]
        }
      ]
    },
    {
      "cell_type": "code",
      "source": [
        "from tensorflow.keras.preprocessing.text import Tokenizer\n",
        "from tensorflow.keras.preprocessing.sequence import pad_sequences\n",
        "from tensorflow.keras.models import Sequential\n",
        "from tensorflow.keras.layers import Dense, Embedding, LSTM, Conv1D, MaxPool1D\n",
        "from sklearn.model_selection import train_test_split\n",
        "from sklearn.metrics import classification_report, accuracy_score"
      ],
      "metadata": {
        "id": "tvnTaOH4V4cy"
      },
      "execution_count": null,
      "outputs": []
    },
    {
      "cell_type": "markdown",
      "source": [
        "FAKE NEWS DATASET ANALYSIS"
      ],
      "metadata": {
        "id": "DmdCyDzFWHdl"
      }
    },
    {
      "cell_type": "code",
      "source": [
        "fake_news = pd.read_csv(\"/content/fake.csv\")"
      ],
      "metadata": {
        "id": "fxte3K-7WG0U"
      },
      "execution_count": null,
      "outputs": []
    },
    {
      "cell_type": "code",
      "source": [
        "fake_news.head()\n"
      ],
      "metadata": {
        "id": "pPBhPWGSWRgC"
      },
      "execution_count": null,
      "outputs": []
    },
    {
      "cell_type": "code",
      "source": [
        "fake_news.columns"
      ],
      "metadata": {
        "colab": {
          "base_uri": "https://localhost:8080/"
        },
        "id": "idXfAw9zWbGj",
        "outputId": "c9df3bf6-3d6f-4a34-9273-38419100d99d"
      },
      "execution_count": null,
      "outputs": [
        {
          "output_type": "execute_result",
          "data": {
            "text/plain": [
              "Index(['title', 'text', 'subject', 'date'], dtype='object')"
            ]
          },
          "metadata": {},
          "execution_count": 7
        }
      ]
    },
    {
      "cell_type": "code",
      "source": [
        "fake_news['text'][0]"
      ],
      "metadata": {
        "id": "qYdnNMiA7Rb-"
      },
      "execution_count": null,
      "outputs": []
    },
    {
      "cell_type": "code",
      "source": [
        "# get the average number of words per text:\n",
        "average_word_count = fake_news['text'].apply(lambda x: len(str(x).split())).mean()\n",
        "print(f'Average number of words per text: {average_word_count:.2f}')"
      ],
      "metadata": {
        "colab": {
          "base_uri": "https://localhost:8080/"
        },
        "id": "J7Gmj3FQ6aPR",
        "outputId": "50d6553d-e355-4b5b-ca7f-f93424e375f1"
      },
      "execution_count": null,
      "outputs": [
        {
          "output_type": "stream",
          "name": "stdout",
          "text": [
            "Average number of words per text: 423.20\n"
          ]
        }
      ]
    },
    {
      "cell_type": "code",
      "source": [
        "fake_news['subject'].value_counts()"
      ],
      "metadata": {
        "id": "x1NvJ8uzWhKs"
      },
      "execution_count": null,
      "outputs": []
    },
    {
      "cell_type": "code",
      "source": [
        "# pie chart to visualize the distrubution of the subjects in the dataset\n",
        "subject_counts = fake_news['subject'].value_counts()\n",
        "plt.figure(figsize=(8,8))\n",
        "plt.pie(subject_counts, labels=subject_counts.index, autopct='%1.1f%%', startangle=140)\n",
        "plt.title('Distribution of Subjects')\n",
        "plt.axis('equal')\n",
        "plt.show()"
      ],
      "metadata": {
        "id": "5JtHyCcgY9cs"
      },
      "execution_count": null,
      "outputs": []
    },
    {
      "cell_type": "code",
      "source": [
        "plt.figure(figsize=(10,6))\n",
        "sns.countplot(x='subject', data = fake_news)"
      ],
      "metadata": {
        "id": "j3KM4d_YZJVk",
        "collapsed": true
      },
      "execution_count": null,
      "outputs": []
    },
    {
      "cell_type": "code",
      "source": [
        "# term frequency bar plot  - use a horizontal or vertical bar plot of the top N most frequent word\n",
        "from collections import Counter"
      ],
      "metadata": {
        "id": "yEgvZjATst2N"
      },
      "execution_count": null,
      "outputs": []
    },
    {
      "cell_type": "code",
      "source": [
        "words = ' '.join(fake_news['text']).split()\n",
        "common_words = Counter(words).most_common(20)\n",
        "words_df = pd.DataFrame(common_words, columns=['word', 'count'])\n",
        "\n",
        "sns.barplot(data=words_df, y='word', x='count')"
      ],
      "metadata": {
        "id": "SXXrwZxts8NP"
      },
      "execution_count": null,
      "outputs": []
    },
    {
      "cell_type": "code",
      "source": [
        "# check for any empty rows in the fake news dataset:\n",
        "def find_empty_rows(df, text_column='text'):\n",
        "    # Find empty or whitespace-only or null rows\n",
        "    empty_rows = df[df[text_column].str.strip().eq('') | df[text_column].isnull()]\n",
        "\n",
        "    if not empty_rows.empty:\n",
        "        print(f\"Empty text rows found at indices: {list(empty_rows.index)}\")\n",
        "    else:\n",
        "        print(\"No empty text rows found.\")\n",
        "\n",
        "    return empty_rows"
      ],
      "metadata": {
        "id": "MhLeH_z0BkoG"
      },
      "execution_count": null,
      "outputs": []
    },
    {
      "cell_type": "code",
      "source": [
        "def remove_empty_rows(df, text_column='text'):\n",
        "    # Find rows where the specified column is empty or contains only whitespace\n",
        "    empty_rows = df[df[text_column].str.strip().eq('') | df[text_column].isnull()]\n",
        "\n",
        "    if not empty_rows.empty:\n",
        "        print(f\"Dropping the following empty row indices: {list(empty_rows.index)}\")\n",
        "        df = df.drop(empty_rows.index, axis=0)\n",
        "    else:\n",
        "        print(\"No empty rows found.\")\n",
        "\n",
        "    return df"
      ],
      "metadata": {
        "id": "FPr4NvuMI5VT"
      },
      "execution_count": null,
      "outputs": []
    },
    {
      "cell_type": "code",
      "source": [
        "find_empty_rows(fake_news, text_column='text')"
      ],
      "metadata": {
        "id": "6b_i5B-UBzGg"
      },
      "execution_count": null,
      "outputs": []
    },
    {
      "cell_type": "code",
      "source": [
        "remove_empty_rows(fake_news,'text')"
      ],
      "metadata": {
        "id": "uir5KXR9I9hv"
      },
      "execution_count": null,
      "outputs": []
    },
    {
      "cell_type": "code",
      "source": [
        "fake_news['text'][10923]"
      ],
      "metadata": {
        "colab": {
          "base_uri": "https://localhost:8080/",
          "height": 36
        },
        "id": "vf3Zl0xVCATx",
        "outputId": "22cfb200-0657-4480-d54e-c225e813e7f3"
      },
      "execution_count": null,
      "outputs": [
        {
          "output_type": "execute_result",
          "data": {
            "text/plain": [
              "' '"
            ],
            "application/vnd.google.colaboratory.intrinsic+json": {
              "type": "string"
            }
          },
          "metadata": {},
          "execution_count": 24
        }
      ]
    },
    {
      "cell_type": "markdown",
      "source": [
        "Analysis of the real news dataset:"
      ],
      "metadata": {
        "id": "0Q3cdOcCuUtZ"
      }
    },
    {
      "cell_type": "code",
      "source": [
        "real_news = pd.read_csv('/content/true.csv')"
      ],
      "metadata": {
        "id": "QS4cPYBYuXB0"
      },
      "execution_count": null,
      "outputs": []
    },
    {
      "cell_type": "code",
      "source": [
        "real_news.head()"
      ],
      "metadata": {
        "id": "DwNShGoduaXu"
      },
      "execution_count": null,
      "outputs": []
    },
    {
      "cell_type": "code",
      "source": [
        "real_news['text'][0]"
      ],
      "metadata": {
        "id": "EYre1RzA-IQq"
      },
      "execution_count": null,
      "outputs": []
    },
    {
      "cell_type": "code",
      "source": [
        "# get the average number of words per text:\n",
        "average_word_count = real_news['text'].apply(lambda x: len(str(x).split())).mean()\n",
        "print(f'Average number of words per text: {average_word_count:.2f}')"
      ],
      "metadata": {
        "colab": {
          "base_uri": "https://localhost:8080/"
        },
        "id": "8Lap9zTB-TZV",
        "outputId": "69c20ee9-367c-4f89-99a2-93b5de8a79c8"
      },
      "execution_count": null,
      "outputs": [
        {
          "output_type": "stream",
          "name": "stdout",
          "text": [
            "Average number of words per text: 385.64\n"
          ]
        }
      ]
    },
    {
      "cell_type": "code",
      "source": [
        "text = ' '.join(real_news['text'].tolist())"
      ],
      "metadata": {
        "id": "XFyZ2o0tudu5"
      },
      "execution_count": null,
      "outputs": []
    },
    {
      "cell_type": "code",
      "source": [
        "real_news['subject'].value_counts()"
      ],
      "metadata": {
        "id": "vCsrP9eLuyq6"
      },
      "execution_count": null,
      "outputs": []
    },
    {
      "cell_type": "code",
      "source": [
        "#Pie chart to visualize the distribution of the news\n",
        "subject_counts = real_news['subject'].value_counts()\n",
        "plt.figure(figsize=(8,8))\n",
        "plt.pie(subject_counts, labels=subject_counts.index, autopct='%1.1f%%', startangle=140)\n",
        "plt.title('Distribution of Subjects in real news')\n",
        "plt.axis('equal')  # Equal aspect ratio makes the pie a circle\n",
        "plt.show()"
      ],
      "metadata": {
        "id": "rkJVUb7DulZd"
      },
      "execution_count": null,
      "outputs": []
    },
    {
      "cell_type": "code",
      "source": [
        "words = ' '.join(real_news['text']).split()\n",
        "common_words = Counter(words).most_common(20)\n",
        "words_df = pd.DataFrame(common_words, columns=['word', 'count'])\n",
        "\n",
        "sns.barplot(data=words_df, y='word', x='count')"
      ],
      "metadata": {
        "id": "cti3nRJIu40z"
      },
      "execution_count": null,
      "outputs": []
    },
    {
      "cell_type": "code",
      "source": [
        "real_news.sample(5)"
      ],
      "metadata": {
        "id": "sh-BOXu9x8f-"
      },
      "execution_count": null,
      "outputs": []
    },
    {
      "cell_type": "code",
      "source": [
        "# create list of indexes which do not have publication information by breaking text with hyphen\n",
        "import re\n",
        "\n",
        "pattern = re.compile(r'^.{0,119} - .+')\n",
        "\n",
        "unknown_publishers = [\n",
        "    i for i, text in enumerate(real_news.text.values)\n",
        "    if not pattern.match(text)\n",
        "]"
      ],
      "metadata": {
        "id": "YKPIjjvVzm4C"
      },
      "execution_count": null,
      "outputs": []
    },
    {
      "cell_type": "code",
      "source": [
        "len(unknown_publishers)"
      ],
      "metadata": {
        "colab": {
          "base_uri": "https://localhost:8080/"
        },
        "id": "53MtM2yw1BX-",
        "outputId": "20ebb51a-9f48-4c73-e8e3-0ab1487daf68"
      },
      "execution_count": null,
      "outputs": [
        {
          "output_type": "execute_result",
          "data": {
            "text/plain": [
              "229"
            ]
          },
          "metadata": {},
          "execution_count": 36
        }
      ]
    },
    {
      "cell_type": "code",
      "source": [
        "real_news.iloc[unknown_publishers].text"
      ],
      "metadata": {
        "id": "6_9OPYWO1HUo"
      },
      "execution_count": null,
      "outputs": []
    },
    {
      "cell_type": "code",
      "source": [
        "find_empty_rows(real_news,'text')"
      ],
      "metadata": {
        "collapsed": true,
        "id": "j-22ltc73Cvf"
      },
      "execution_count": null,
      "outputs": []
    },
    {
      "cell_type": "code",
      "source": [
        "real_news =remove_empty_rows(real_news)"
      ],
      "metadata": {
        "colab": {
          "base_uri": "https://localhost:8080/"
        },
        "id": "zKPakpfTAXAI",
        "outputId": "cdfd64f5-511c-452b-8607-a617b74c296a"
      },
      "execution_count": null,
      "outputs": [
        {
          "output_type": "stream",
          "name": "stdout",
          "text": [
            "Dropping the following empty row indices: [8970]\n"
          ]
        }
      ]
    },
    {
      "cell_type": "code",
      "source": [
        "publisher = []\n",
        "tmp_text = [] # for unknown publishers\n",
        "\n",
        "for index, row in enumerate(real_news.text.values):\n",
        "  if index in unknown_publishers:\n",
        "    tmp_text.append(row)\n",
        "    publisher.append('Unknown')\n",
        "    continue\n",
        "  else:\n",
        "    record = row.split('-', maxsplit = 1)\n",
        "    publisher.append(record[0].strip())\n",
        "    tmp_text.append(record[1].strip())"
      ],
      "metadata": {
        "id": "0re_j75f1rCr"
      },
      "execution_count": null,
      "outputs": []
    },
    {
      "cell_type": "code",
      "source": [
        "real_news['publisher'] = publisher\n",
        "real_news['text'] = tmp_text\n"
      ],
      "metadata": {
        "id": "iiiuX2sj379g"
      },
      "execution_count": null,
      "outputs": []
    },
    {
      "cell_type": "code",
      "source": [
        "real_news.shape"
      ],
      "metadata": {
        "colab": {
          "base_uri": "https://localhost:8080/"
        },
        "id": "SWC8dC8r4HrL",
        "outputId": "0c0b804b-5f07-4514-b5a4-75e2450cd624"
      },
      "execution_count": null,
      "outputs": [
        {
          "output_type": "execute_result",
          "data": {
            "text/plain": [
              "(21416, 5)"
            ]
          },
          "metadata": {},
          "execution_count": 42
        }
      ]
    },
    {
      "cell_type": "code",
      "source": [
        "publisher"
      ],
      "metadata": {
        "colab": {
          "base_uri": "https://localhost:8080/"
        },
        "collapsed": true,
        "id": "lDc7d18_4SGp",
        "outputId": "556e0789-284e-4309-fc4a-7b13ca618559"
      },
      "execution_count": null,
      "outputs": [
        {
          "output_type": "execute_result",
          "data": {
            "text/plain": [
              "['WASHINGTON (Reuters)',\n",
              " 'WASHINGTON (Reuters)',\n",
              " 'WASHINGTON (Reuters)',\n",
              " 'WASHINGTON (Reuters)',\n",
              " 'SEATTLE/WASHINGTON (Reuters)',\n",
              " 'WEST PALM BEACH, Fla./WASHINGTON (Reuters)',\n",
              " 'WEST PALM BEACH, Fla (Reuters)',\n",
              " 'Unknown',\n",
              " 'Unknown',\n",
              " 'WASHINGTON (Reuters)',\n",
              " '(Reuters)',\n",
              " 'NEW YORK/WASHINGTON (Reuters)',\n",
              " 'Unknown',\n",
              " 'Unknown',\n",
              " 'Unknown',\n",
              " '(Reuters)',\n",
              " 'WASHINGTON (Reuters)',\n",
              " 'Unknown',\n",
              " '(Reuters)',\n",
              " '(Reuters)',\n",
              " 'WASHINGTON (Reuters)',\n",
              " 'NEW YORK (Reuters)',\n",
              " '(Reuters)',\n",
              " 'WASHINGTON (Reuters)',\n",
              " 'LIMA (Reuters)',\n",
              " 'WASHINGTON (Reuters)',\n",
              " 'WASHINGTON (Reuters)',\n",
              " 'Unknown',\n",
              " 'MEXICO CITY (Reuters)',\n",
              " 'WASHINGTON (Reuters)',\n",
              " '(Reuters)',\n",
              " 'WASHINGTON (Reuters)',\n",
              " 'WASHINGTON (Reuters)',\n",
              " 'VATICAN CITY (Reuters)',\n",
              " 'KING OF PRUSSIA, Pennsylvania/WASHINGTON (Reuters)',\n",
              " '(Reuters)',\n",
              " 'WASHINGTON (Reuters)',\n",
              " '(Reuters)',\n",
              " 'NEW YORK (Reuters)',\n",
              " 'WASHINGTON (Reuters)',\n",
              " 'Unknown',\n",
              " 'WASHINGTON (Reuters)',\n",
              " 'NEW YORK (Reuters)',\n",
              " 'WASHINGTON (Reuters)',\n",
              " 'WASHINGTON (Reuters)',\n",
              " 'SAN FRANCISCO (Reuters)',\n",
              " 'WASHINGTON (Reuters)',\n",
              " 'WASHINGTON (Reuters)',\n",
              " 'WASHINGTON (Reuters)',\n",
              " 'WASHINGTON (Reuters)',\n",
              " 'WASHINGTON (Reuters)',\n",
              " 'WASHINGTON (Reuters)',\n",
              " 'NEW YORK (Reuters)',\n",
              " 'WASHINGTON (Reuters)',\n",
              " 'WASHINGTON (Reuters)',\n",
              " 'BOSTON (Reuters)',\n",
              " 'WASHINGTON (Reuters)',\n",
              " 'WASHINGTON (Reuters)',\n",
              " 'WASHINGTON (Reuters)',\n",
              " '(Reuters)',\n",
              " 'WASHINGTON (Reuters)',\n",
              " 'WASHINGTON (Reuters)',\n",
              " 'WASHINGTON (Reuters)',\n",
              " '(Reuters)',\n",
              " 'WASHINGTON (Reuters)',\n",
              " '(Reuters)',\n",
              " 'ATLANTA (Reuters)',\n",
              " 'Unknown',\n",
              " 'WASHINGTON (Reuters)',\n",
              " 'WASHINGTON (Reuters)',\n",
              " 'Unknown',\n",
              " '(Reuters)',\n",
              " 'WASHINGTON (Reuters)',\n",
              " 'WASHINGTON (Reuters)',\n",
              " 'WASHINGTON (Reuters)',\n",
              " '(Reuters)',\n",
              " 'NEW YORK (Reuters)',\n",
              " 'WASHINGTON (Reuters)',\n",
              " 'WASHINGTON (Reuters)',\n",
              " 'WASHINGTON (Reuters)',\n",
              " 'WASHINGTON (Reuters)',\n",
              " '(Reuters)',\n",
              " 'WASHINGTON (Reuters)',\n",
              " 'WASHINGTON (Reuters)',\n",
              " 'WASHINGTON (Reuters)',\n",
              " '(Reuters)',\n",
              " 'WASHINGTON (Reuters)',\n",
              " 'WASHINGTON (Reuters)',\n",
              " 'WASHINGTON (Reuters)',\n",
              " 'WASHINGTON (Reuters)',\n",
              " 'WASHINGTON (Reuters)',\n",
              " 'WASHINGTON (Reuters)',\n",
              " 'WASHINGTON (Reuters)',\n",
              " 'WASHINGTON (Reuters)',\n",
              " 'WASHINGTON (Reuters)',\n",
              " 'WASHINGTON (Reuters)',\n",
              " 'WASHINGTON (Reuters)',\n",
              " 'Unknown',\n",
              " 'WASHINGTON (Reuters)',\n",
              " 'WASHINGTON (Reuters)',\n",
              " 'WASHINGTON (Reuters)',\n",
              " 'WASHINGTON (Reuters)',\n",
              " 'WASHINGTON (Reuters)',\n",
              " 'WASHINGTON ()',\n",
              " 'WASHINGTON (Reuters)',\n",
              " 'WASHINGTON (Reuters)',\n",
              " 'WASHINGTON (Reuters)',\n",
              " 'WASHINGTON (Reuters)',\n",
              " 'WASHINGTON (Reuters)',\n",
              " '(Reuters)',\n",
              " 'WASHINGTON (Reuters)',\n",
              " 'WASHINGTON (Reuters)',\n",
              " 'WASHINGTON (Reuters)',\n",
              " 'NEW YORK (Reuters)',\n",
              " 'WASHINGTON (Reuters)',\n",
              " 'WASHINGTON (Reuters)',\n",
              " 'WASHINGTON (Reuters)',\n",
              " 'WASHINGTON (Reuters)',\n",
              " 'WASHINGTON (Reuters)',\n",
              " 'WASHINGTON (Reuters)',\n",
              " 'WASHINGTON (Reuters)',\n",
              " 'WASHINGTON (Reuters)',\n",
              " 'Unknown',\n",
              " 'WASHINGTON (Reuters)',\n",
              " 'WASHINGTON (Reuters)',\n",
              " 'WASHINGTON (Reuters)',\n",
              " 'WASHINGTON (Reuters)',\n",
              " 'WASHINGTON (Reuters)',\n",
              " 'WASHINGTON (Reuters)',\n",
              " 'WASHINGTON (Reuters)',\n",
              " 'WASHINGTON (Reuters)',\n",
              " 'WASHINGTON (Reuters)',\n",
              " 'WASHINGTON (Reuters)',\n",
              " 'WASHINGTON (Reuters)',\n",
              " 'WASHINGTON (Reuters)',\n",
              " 'NEW YORK (Reuters)',\n",
              " 'WASHINGTON (Reuters)',\n",
              " 'WASHINGTON (Reuters)',\n",
              " 'WASHINGTON (Reuters)',\n",
              " 'WASHINGTON (Reuters)',\n",
              " 'Unknown',\n",
              " 'WASHINGTON (Reuters)',\n",
              " 'WASHINGTON (Reuters)',\n",
              " '(Reuters)',\n",
              " 'WASHINGTON (Reuters)',\n",
              " 'AUSTIN, Texas/WASHINGTON (Reuters)',\n",
              " 'WASHINGTON (Reuters)',\n",
              " 'NEW YORK (Reuters)',\n",
              " 'WASHINGTON (Reuters)',\n",
              " 'WASHINGTON (Reuters)',\n",
              " 'WASHINGTON (Reuters)',\n",
              " 'WASHINGTON (Reuters)',\n",
              " 'WASHINGTON (Reuters)',\n",
              " 'WASHINGTON (Reuters)',\n",
              " 'WASHINGTON (Reuters)',\n",
              " 'Unknown',\n",
              " 'Unknown',\n",
              " 'WASHINGTON (Reuters)',\n",
              " '(Reuters)',\n",
              " 'WASHINGTON (Reuters)',\n",
              " 'WASHINGTON (Reuters)',\n",
              " 'WASHINGTON (Reuters)',\n",
              " 'WASHINGTON (Reuters)',\n",
              " 'WASHINGTON (Reuters)',\n",
              " 'WASHINGTON (Reuters)',\n",
              " '(Reuters)',\n",
              " '(Reuters)',\n",
              " '(Reuters)',\n",
              " 'WASHINGTON (Reuters)',\n",
              " 'WASHINGTON (Reuters)',\n",
              " 'WASHINGTON (Reuters)',\n",
              " 'WASHINGTON (Reuters)',\n",
              " 'WASHINGTON (Reuters)',\n",
              " 'LONDON (Reuters)',\n",
              " '(Reuters)',\n",
              " 'WASHINGTON (Reuters)',\n",
              " 'WASHINGTON (Reuters)',\n",
              " 'WASHINGTON (Reuters)',\n",
              " 'WASHINGTON (Reuters)',\n",
              " 'WASHINGTON (Reuters)',\n",
              " 'WASHINGTON (Reuters)',\n",
              " 'WASHINGTON (Reuters)',\n",
              " 'WASHINGTON (Reuters)',\n",
              " 'WASHINGTON (Reuters)',\n",
              " 'NEW YORK (Reuters)',\n",
              " 'WASHINGTON (Reuters)',\n",
              " 'WASHINGTON (Reuters)',\n",
              " 'WASHINGTON (Reuters)',\n",
              " '(Reuters)',\n",
              " 'WASHINGTON (Reuters)',\n",
              " 'GADSDEN, Ala. (Reuters)',\n",
              " '(Reuters)',\n",
              " 'Unknown',\n",
              " 'WASHINGTON (Reuters)',\n",
              " 'WASHINGTON (Reuters)',\n",
              " 'WASHINGTON (Reuters)',\n",
              " 'WASHINGTON (Reuters)',\n",
              " 'WASHINGTON (Reuters)',\n",
              " 'WASHINGTON (Reuters)',\n",
              " 'WASHINGTON (Reuters)',\n",
              " 'WASHINGTON (Reuters)',\n",
              " 'WASHINGTON (Reuters)',\n",
              " 'WASHINGTON (Reuters)',\n",
              " 'WASHINGTON (Reuters)',\n",
              " 'WASHINGTON (Reuters)',\n",
              " '(Reuters)',\n",
              " 'WASHINGTON (Reuters)',\n",
              " 'WASHINGTON (Reuters)',\n",
              " 'WASHINGTON (Reuters)',\n",
              " '(Corrects paragraph 7 to show Trump issued a warning on travel to Cuba, not a ban on travel to Cuba) HAVANA (Reuters)',\n",
              " 'BIRMINGHAM, Ala. (Reuters)',\n",
              " 'NEW YORK (Reuters)',\n",
              " 'WASHINGTON (Reuters)',\n",
              " 'WASHINGTON (Reuters)',\n",
              " '(Reuters)',\n",
              " 'WASHINGTON (Reuters)',\n",
              " 'WASHINGTON (Reuters)',\n",
              " 'WASHINGTON (Reuters)',\n",
              " '(Reuters)',\n",
              " 'WASHINGTON/NEW YORK (Reuters)',\n",
              " 'WASHINGTON (Reuters)',\n",
              " 'WASHINGTON (Reuters)',\n",
              " 'Unknown',\n",
              " 'WASHINGTON (Reuters)',\n",
              " 'WASHINGTON (Reuters)',\n",
              " 'WASHINGTON (Reuters)',\n",
              " 'LOWER MERION, Pa. (Reuters)',\n",
              " 'PENSACOLA, Fla. (Reuters)',\n",
              " 'WASHINGTON (Reuters)',\n",
              " 'JACKSON, Miss. (Reuters)',\n",
              " 'KIEV (Reuters)',\n",
              " 'WASHINGTON (Reuters on Friday )',\n",
              " 'WASHINGTON (Reuters)',\n",
              " 'Unknown',\n",
              " 'WASHINGTON/NEW YORK (Reuters)',\n",
              " 'LONDON (Reuters)',\n",
              " 'WASHINGTON (Reuters)',\n",
              " 'WASHINGTON (Reuters)',\n",
              " 'WASHINGTON (Reuters)',\n",
              " '(Reuters)',\n",
              " 'WASHINGTON (Reuters)',\n",
              " 'WASHINGTON (Reuters)',\n",
              " 'WASHINGTON (Reuters)',\n",
              " 'WASHINGTON (Reuters)',\n",
              " 'WASHINGTON (Reuters)',\n",
              " 'WASHINGTON (Reuters)',\n",
              " 'NEW YORK (Reuters)',\n",
              " 'WASHINGTON (Reuters)',\n",
              " 'WASHINGTON (Reuters)',\n",
              " 'WASHINGTON (Reuters)',\n",
              " 'WASHINGTON (Reuters)',\n",
              " 'WASHINGTON (Reuters)',\n",
              " 'Unknown',\n",
              " 'WASHINGTON (Reuters)',\n",
              " '(Reuters)',\n",
              " '(Reuters)',\n",
              " 'WASHINGTON (Reuters)',\n",
              " 'Unknown',\n",
              " 'WASHINGTON (Reuters)',\n",
              " '(Reuters)',\n",
              " 'WASHINGTON (Reuters)',\n",
              " 'WASHINGTON (Reuters)',\n",
              " 'WASHINGTON (Reuters)',\n",
              " 'WASHINGTON (Reuters)',\n",
              " 'WASHINGTON (Reuters)',\n",
              " 'TRIPOLI (Reuters)',\n",
              " 'WASHINGTON (Reuters)',\n",
              " '(Reuters)',\n",
              " 'WASHINGTON (Reuters)',\n",
              " 'WASHINGTON (Reuters)',\n",
              " 'WASHINGTON (Reuters)',\n",
              " 'WASHINGTON (Reuters)',\n",
              " 'NEW YORK (LPC/IFR)',\n",
              " '(Reuters)',\n",
              " '(Reuters)',\n",
              " 'WASHINGTON (Reuters)',\n",
              " 'WASHINGTON (Reuters)',\n",
              " '(Reuters)',\n",
              " 'WASHINGTON (Reuters)',\n",
              " 'WASHINGTON (Reuters)',\n",
              " 'WASHINGTON (Reuters)',\n",
              " 'WASHINGTON (Reuters)',\n",
              " 'WASHINGTON (Reuters)',\n",
              " 'WASHINGTON (Reuters)',\n",
              " 'Unknown',\n",
              " 'SEATTLE/SAN FRANCISCO (Reuters)',\n",
              " 'WASHINGTON (Reuters)',\n",
              " 'WASHINGTON (Reuters)',\n",
              " 'WASHINGTON (Reuters)',\n",
              " 'WASHINGTON (Reuters)',\n",
              " 'WASHINGTON (Reuters)',\n",
              " '(Reuters)',\n",
              " 'WASHINGTON (Reuters)',\n",
              " 'WASHINGTON (Reuters)',\n",
              " 'BIRMINGHAM, Ala. (Reuters)',\n",
              " 'WASHINGTON (Reuters)',\n",
              " 'WASHINGTON (Reuters)',\n",
              " 'WASHINGTON (Reuters)',\n",
              " 'SACRAMENTO, Calif. (Reuters)',\n",
              " 'WASHINGTON (Reuters)',\n",
              " '(Reuters)',\n",
              " 'WASHINGTON (Reuters)',\n",
              " '(Reuters)',\n",
              " '(Reuters)',\n",
              " 'BRUSSELS (Reuters)',\n",
              " 'WASHINGTON (Reuters)',\n",
              " 'WASHINGTON (Reuters)',\n",
              " 'WASHINGTON (Reuters)',\n",
              " 'Unknown',\n",
              " 'WASHINGTON (Reuters)',\n",
              " '(Reuters)',\n",
              " 'WASHINGTON (Reuters)',\n",
              " 'WASHINGTON (Reuters)',\n",
              " 'FRANKFURT/WASHINGTON (Reuters)',\n",
              " 'WASHINGTON (Reuters)',\n",
              " 'NEW YORK (Reuters)',\n",
              " 'WASHINGTON (Reuters)',\n",
              " 'WASHINGTON (Reuters)',\n",
              " 'WASHINGTON (Reuters)',\n",
              " 'WASHINGTON (Reuters)',\n",
              " 'WASHINGTON (Reuters)',\n",
              " 'Unknown',\n",
              " 'WASHINGTON (Reuters)',\n",
              " 'WASHINGTON (Reuters)',\n",
              " '(Reuters)',\n",
              " 'WASHINGTON (Reuters)',\n",
              " 'WASHINGTON (Reuters)',\n",
              " 'WASHINGTON (Reuters)',\n",
              " 'BRUSSELS (Reuters)',\n",
              " 'WASHINGTON (Reuters)',\n",
              " '(Reuters)',\n",
              " 'BRUSSELS (Reuters)',\n",
              " 'BRUSSELS (Reuters)',\n",
              " 'WASHINGTON (Reuters)',\n",
              " 'WASHINGTON (Reuters)',\n",
              " 'WASHINGTON (Reuters)',\n",
              " 'WASHINGTON (Reuters)',\n",
              " 'WASHINGTON (Reuters)',\n",
              " 'SALT LAKE CITY (Reuters)',\n",
              " '(Reuters)',\n",
              " 'NEW YORK (Reuters)',\n",
              " 'WASHINGTON (Reuters)',\n",
              " 'WASHINGTON (Reuters)',\n",
              " 'WASHINGTON (Reuters)',\n",
              " 'ABOARD AIR FORCE ONE (Reuters)',\n",
              " 'WASHINGTON (Reuters)',\n",
              " '(Reuters)',\n",
              " 'WASHINGTON (Reuters)',\n",
              " 'ISLAMABAD (Reuters)',\n",
              " 'WASHINGTON (Reuters)',\n",
              " 'WASHINGTON (Reuters)',\n",
              " 'SALT LAKE CITY (Reuters)',\n",
              " '(Reuters)',\n",
              " 'WASHINGTON (Reuters)',\n",
              " 'WASHINGTON (Reuters)',\n",
              " 'BOSTON (Reuters)',\n",
              " 'WASHINGTON/NEW YORK (Reuters)',\n",
              " 'WASHINGTON (Reuters)',\n",
              " '(The Dec. 1 story was refiled to correct Gates’ first name to Richard in paragraph 3) (Reuters)',\n",
              " 'WASHINGTON (Reuters)',\n",
              " 'WASHINGTON (Reuters)',\n",
              " 'WASHINGTON (Reuters)',\n",
              " 'Unknown',\n",
              " 'MOSCOW (Reuters)',\n",
              " 'MOSCOW (Reuters)',\n",
              " 'WASHINGTON (Reuters)',\n",
              " 'WASHINGTON (Reuters)',\n",
              " 'BRUSSELS/BERLIN (Reuters)',\n",
              " 'WASHINGTON (Reuters)',\n",
              " '(Reuters)',\n",
              " 'WASHINGTON (Reuters)',\n",
              " 'WASHINGTON (Reuters)',\n",
              " 'WASHINGTON/NEW YORK (Reuters)',\n",
              " 'WASHINGTON (Reuters)',\n",
              " 'WASHINGTON (Reuters)',\n",
              " 'WASHINGTON (Reuters)',\n",
              " 'WASHINGTON (Reuters)',\n",
              " 'WASHINGTON (Reuters)',\n",
              " 'WASHINGTON (Reuters)',\n",
              " 'WASHINGTON (Reuters)',\n",
              " 'WASHINGTON (Reuters)',\n",
              " 'WASHINGTON (Reuters)',\n",
              " 'WASHINGTON (Reuters)',\n",
              " 'WASHINGTON (Reuters)',\n",
              " 'Unknown',\n",
              " 'WASHINGTON (Reuters)',\n",
              " 'UNITED NATIONS (Reuters)',\n",
              " 'DETROIT (Reuters)',\n",
              " 'WASHINGTON (Reuters)',\n",
              " 'WASHINGTON (Reuters)',\n",
              " 'WASHINGTON (Reuters)',\n",
              " 'WASHINGTON (Reuters)',\n",
              " 'WASHINGTON (Reuters)',\n",
              " 'WASHINGTON (Reuters)',\n",
              " 'NEW YORK (Reuters)',\n",
              " '(Reuters)',\n",
              " 'WASHINGTON (Reuters)',\n",
              " 'WASHINGTON (Reuters)',\n",
              " 'WASHINGTON (Reuters)',\n",
              " 'BOSTON (Reuters)',\n",
              " 'WASHINGTON (Reuters)',\n",
              " 'WASHINGTON (Reuters)',\n",
              " 'WASHINGTON (Reuters)',\n",
              " 'WASHINGTON (Reuters)',\n",
              " 'WASHINGTON (Reuters)',\n",
              " 'WASHINGTON (Reuters)',\n",
              " 'WASHINGTON (Reuters)',\n",
              " 'WASHINGTON (Reuters)',\n",
              " '(Reuters)',\n",
              " 'WASHINGTON (Reuters)',\n",
              " '(Reuters)',\n",
              " 'WASHINGTON (Reuters)',\n",
              " 'Unknown',\n",
              " 'WASHINGTON (Reuters)',\n",
              " 'WASHINGTON (Reuters)',\n",
              " '(Reuters)',\n",
              " 'WASHINGTON (Reuters)',\n",
              " 'WASHINGTON (Reuters)',\n",
              " 'WASHINGTON (Reuters)',\n",
              " 'WASHINGTON (Reuters)',\n",
              " 'WASHINGTON (Reuters)',\n",
              " 'WASHINGTON (Reuters)',\n",
              " 'WASHINGTON (Reuters)',\n",
              " 'WASHINGTON (Reuters)',\n",
              " 'WASHINGTON (Reuters)',\n",
              " 'WASHINGTON (Reuters)',\n",
              " 'WASHINGTON (Reuters)',\n",
              " 'WASHINGTON',\n",
              " 'WASHINGTON (Reuters)',\n",
              " 'WASHINGTON (Reuters)',\n",
              " 'WASHINGTON (Reuters)',\n",
              " 'SAN FRANCISCO (Reuters)',\n",
              " 'WASHINGTON (Reuters)',\n",
              " 'WASHINGTON (Reuters)',\n",
              " 'WASHINGTON (Reuters)',\n",
              " 'WASHINGTON (Reuters)',\n",
              " 'WASHINGTON (Reuters)',\n",
              " 'WASHINGTON (Reuters)',\n",
              " '(Reuters)',\n",
              " 'AUSTIN, Texas (Reuters)',\n",
              " '(Reuters)',\n",
              " '(Reuters)',\n",
              " 'WASHINGTON (Reuters)',\n",
              " 'WASHINGTON (Reuters)',\n",
              " 'WASHINGTON (Reuters)',\n",
              " 'WASHINGTON (Reuters)',\n",
              " 'WASHINGTON (Reuters)',\n",
              " 'LONDON (Reuters)',\n",
              " 'GENEVA (Reuters)',\n",
              " 'WASHINGTON (Reuters)',\n",
              " 'WASHINGTON (Reuters)',\n",
              " 'AMMAN (Reuters)',\n",
              " 'LONDON (Reuters)',\n",
              " 'Unknown',\n",
              " 'WASHINGTON/LONDON (Reuters)',\n",
              " 'LONDON (Reuters)',\n",
              " 'LONDON (Reuters)',\n",
              " '(Reuters)',\n",
              " 'WASHINGTON (Reuters)',\n",
              " 'Unknown',\n",
              " 'WASHINGTON (Reuters)',\n",
              " 'WASHINGTON (Reuters)',\n",
              " 'WASHINGTON (Reuters)',\n",
              " '(Reuters)',\n",
              " 'WASHINGTON (Reuters)',\n",
              " 'WASHINGTON (Reuters)',\n",
              " 'WASHINGTON (Reuters)',\n",
              " 'WASHINGTON (Reuters)',\n",
              " 'WASHINGTON (Reuters)',\n",
              " 'WASHINGTON (Reuters)',\n",
              " 'CHARLESTON, W. Va. (Reuters)',\n",
              " '(Reuters)',\n",
              " 'WASHINGTON/NEW YORK (Reuters)',\n",
              " 'WASHINGTON (Reuters)',\n",
              " '(Reuters)',\n",
              " 'WASHINGTON (Reuters)',\n",
              " 'WASHINGTON (Reuters)',\n",
              " 'WASHINGTON/NEW YORK (Reuters)',\n",
              " 'ABOARD AIR FORCE ONE (Reuters)',\n",
              " 'WASHINGTON (Reuters)',\n",
              " 'WASHINGTON (Reuters)',\n",
              " 'WASHINGTON (Reuters)',\n",
              " 'LONDON (Reuters)',\n",
              " 'WASHINGTON (Reuters)',\n",
              " 'WASHINGTON (Reuters)',\n",
              " 'LONDON (Reuters)',\n",
              " 'WASHINGTON (Reuters)',\n",
              " 'WASHINGTON (Reuters)',\n",
              " 'WASHINGTON (Reuters)',\n",
              " 'WASHINGTON (Reuters)',\n",
              " 'WASHINGTON (Reuters)',\n",
              " '(Reuters)',\n",
              " 'WASHINGTON (Reuters)',\n",
              " 'WASHINGTON (Reuters)',\n",
              " 'WASHINGTON (Reuters)',\n",
              " 'Unknown',\n",
              " 'WASHINGTON (Reuters)',\n",
              " 'WASHINGTON (Reuters)',\n",
              " 'WASHINGTON (Reuters)',\n",
              " '(Reuters)',\n",
              " 'WASHINGTON (Reuters)',\n",
              " 'WASHINGTON (Reuters)',\n",
              " 'WASHINGTON (Reuters)',\n",
              " 'WASHINGTON (Reuters)',\n",
              " 'MOSCOW (Reuters)',\n",
              " 'WASHINGTON (Reuters)',\n",
              " 'WASHINGTON (Reuters)',\n",
              " 'WASHINGTON (Reuters)',\n",
              " 'WASHINGTON (Reuters)',\n",
              " 'WASHINGTON (Reuters)',\n",
              " 'WASHINGTON (Reuters)',\n",
              " 'HENAGAR, Ala. (Reuters)',\n",
              " 'WASHINGTON (Reuters)',\n",
              " 'WASHINGTON (Reuters)',\n",
              " 'WASHINGTON (Reuters)',\n",
              " 'WASHINGTON (Reuters)',\n",
              " 'WASHINGTON (Reuters)',\n",
              " 'SACRAMENTO, Calif. (Reuters)',\n",
              " 'WASHINGTON (Reuters)',\n",
              " 'WASHINGTON (Reuters)',\n",
              " 'WASHINGTON (Reuters)',\n",
              " 'WASHINGTON (Reuters)',\n",
              " '(Reuters)',\n",
              " '(Reuters)',\n",
              " 'WASHINGTON (Reuters)',\n",
              " 'WASHINGTON (Reuters)',\n",
              " '(Reuters)',\n",
              " 'WASHINGTON (Reuters)',\n",
              " 'WASHINGTON (Reuters)',\n",
              " 'WASHINGTON (Reuters)',\n",
              " 'WASHINGTON (Reuters)',\n",
              " 'Unknown',\n",
              " '(Reuters)',\n",
              " 'WASHINGTON (Reuters)',\n",
              " 'WASHINGTON (Reuters)',\n",
              " 'WASHINGTON (Reuters)',\n",
              " 'WASHINGTON (Reuters)',\n",
              " 'WEST PALM BEACH, Fla./WASHINGTON (Reuters)',\n",
              " 'WASHINGTON (Reuters)',\n",
              " 'PALM BEACH, FLORIDA (Reuters)',\n",
              " 'WASHINGTON (Reuters)',\n",
              " 'WASHINGTON (Reuters)',\n",
              " 'WASHINGTON/NEW YORK (Reuters)',\n",
              " 'WASHINGTON (Reuters)',\n",
              " 'WASHINGTON (Reuters)',\n",
              " 'WASHINGTON (Reuters)',\n",
              " 'CHICAGO/NEW YORK (Reuters)',\n",
              " '(Reuters)',\n",
              " 'WEST PALM BEACH, Fla. (Reuters)',\n",
              " 'WASHINGTON (Reuters)',\n",
              " 'WASHINGTON (Reuters)',\n",
              " '(Reuters)',\n",
              " 'WASHINGTON (Reuters)',\n",
              " 'KATY, Texas (Reuters)',\n",
              " '(Reuters)',\n",
              " 'WASHINGTON (Reuters)',\n",
              " 'NEW YORK (Reuters)',\n",
              " 'WASHINGTON (Reuters)',\n",
              " 'WASHINGTON (Reuters)',\n",
              " 'WASHINGTON (Reuters)',\n",
              " '(Reuters)',\n",
              " 'WASHINGTON (Reuters)',\n",
              " 'MEXICO CITY (Reuters)',\n",
              " '(Reuters)',\n",
              " 'WASHINGTON (Reuters)',\n",
              " 'WASHINGTON (Reuters)',\n",
              " 'WASHINGTON (Reuters)',\n",
              " 'WASHINGTON (Reuters)',\n",
              " 'WASHINGTON (Reuters)',\n",
              " 'WASHINGTON (Reuters)',\n",
              " 'NEW YORK (Reuters)',\n",
              " 'MOSCOW (Reuters)',\n",
              " 'YANGON/NAYPYITAW (Reuters)',\n",
              " 'WASHINGTON (Reuters)',\n",
              " 'WASHINGTON (Reuters)',\n",
              " 'YANGON (Reuters)',\n",
              " '(Reuters)',\n",
              " 'WASHINGTON (Reuters)',\n",
              " 'WASHINGTON (Reuters)',\n",
              " 'WASHINGTON (Reuters)',\n",
              " 'WASHINGTON (Reuters)',\n",
              " 'NEW YORK(Reuters)',\n",
              " 'WASHINGTON (Reuters)',\n",
              " 'SAN FRANCISCO (Reuters)',\n",
              " 'WASHINGTON (Reuters)',\n",
              " 'WASHINGTON (Reuters)',\n",
              " 'WASHINGTON (Reuters)',\n",
              " 'WASHINGTON (Reuters)',\n",
              " 'HAVANA (Reuters)',\n",
              " 'WASHINGTON (Reuters)',\n",
              " 'WASHINGTON (Reuters)',\n",
              " 'MEXICO CITY (Reuters)',\n",
              " 'WASHINGTON (Reuters)',\n",
              " 'WASHINGTON (Reuters)',\n",
              " 'WASHINGTON (Reuters)',\n",
              " 'WASHINGTON (Reuters)',\n",
              " 'WASHINGTON (Reuters)',\n",
              " 'WASHINGTON (Reuters)',\n",
              " 'WASHINGTON (Reuters)',\n",
              " 'WASHINGTON (Reuters)',\n",
              " 'WASHINGTON (Reuters)',\n",
              " '(Reuters)',\n",
              " 'WASHINGTON (Reuters)',\n",
              " 'WASHINGTON (Reuters)',\n",
              " 'WASHINGTON (Reuters)',\n",
              " '(Reuters)',\n",
              " 'WASHINGTON (Reuters)',\n",
              " '(Reuters)',\n",
              " 'WASHINGTON (Reuters)',\n",
              " 'WASHINGTON (Reuters)',\n",
              " 'WASHINGTON (Reuters)',\n",
              " 'WASHINGTON (Reuters)',\n",
              " 'WASHINGTON (Reuters)',\n",
              " 'WASHINGTON (Reuters)',\n",
              " 'COLORADO SPRINGS, Colo. (Reuters)',\n",
              " 'WASHINGTON (Reuters)',\n",
              " 'WASHINGTON (Reuters)',\n",
              " 'WASHINGTON (Reuters)',\n",
              " 'WASHINGTON (Reuters)',\n",
              " 'CHICAGO/NEW YORK (Reuters)',\n",
              " 'WASHINGTON (Reuters)',\n",
              " 'WASHINGTON (Reuters)',\n",
              " 'WASHINGTON (Reuters)',\n",
              " 'SAN FRANCISCO (Reuters)',\n",
              " 'WASHINGTON (Reuters)',\n",
              " 'WASHINGTON (Reuters)',\n",
              " 'WASHINGTON (Reuters)',\n",
              " 'WASHINGTON (Reuters)',\n",
              " 'WASHINGTON (Reuters)',\n",
              " 'WASHINGTON (Reuters)',\n",
              " 'WASHINGTON (Reuters)',\n",
              " 'WASHINGTON (Reuters)',\n",
              " 'WASHINGTON (Reuters)',\n",
              " 'WASHINGTON (Reuters)',\n",
              " 'WASHINGTON (Reuters)',\n",
              " 'WASHINGTON (Reuters)',\n",
              " 'WASHINGTON (Reuters)',\n",
              " 'WASHINGTON (Reuters)',\n",
              " 'WASHINGTON (Reuters)',\n",
              " 'WASHINGTON (Reuters)',\n",
              " 'WASHINGTON (Reuters)',\n",
              " '(Reuters)',\n",
              " 'WASHINGTON (Reuters)',\n",
              " 'WASHINGTON (Reuters)',\n",
              " 'WASHINGTON (Reuters)',\n",
              " 'WASHINGTON (Reuters)',\n",
              " 'WASHINGTON (Reuters)',\n",
              " 'MANILA (Reuters)',\n",
              " 'WASHINGTON (Reuters)',\n",
              " 'WASHINGTON (Reuters)',\n",
              " 'WASHINGTON (Reuters)',\n",
              " 'WASHINGTON (Reuters)',\n",
              " 'MANILA (Reuters)',\n",
              " 'WASHINGTON (Reuters)',\n",
              " 'MANILA (Reuters)',\n",
              " 'WASHINGTON (Reuters)',\n",
              " 'SAN FRANCISCO (Reuters)',\n",
              " '(Reuters)',\n",
              " 'WASHINGTON (Reuters)',\n",
              " 'WASHINGTON (Reuters)',\n",
              " 'WASHINGTON (Reuters)',\n",
              " 'WASHINGTON (Reuters)',\n",
              " 'WASHINGTON (Reuters)',\n",
              " 'NEW YORK (Reuters)',\n",
              " '(Reuters)',\n",
              " 'WASHINGTON (Reuters)',\n",
              " 'MANILA (Reuters)',\n",
              " 'WASHINGTON (Reuters)',\n",
              " 'WASHINGTON (Reuters)',\n",
              " 'HANOI (Reuters)',\n",
              " 'WASHINGTON (Reuters)',\n",
              " 'WASHINGTON (Reuters)',\n",
              " '(Reuters)',\n",
              " 'HANOI (Reuters)',\n",
              " 'MANILA (Reuters)',\n",
              " '(Reuters)',\n",
              " 'MOSCOW (Reuters)',\n",
              " 'MOSCOW (Reuters)',\n",
              " 'MANILA (Reuters)',\n",
              " 'HANOI (Reuters)',\n",
              " 'LOS ANGELES (Reuters)',\n",
              " 'DANANG, Vietnam (Reuters)',\n",
              " 'WASHINGTON (Reuters)',\n",
              " '(Reuters)',\n",
              " 'WASHINGTON (Reuters)',\n",
              " 'WASHINGTON (Reuters)',\n",
              " 'WASHINGTON (Reuters)',\n",
              " 'WASHINGTON (Reuters)',\n",
              " 'WASHINGTON (Reuters)',\n",
              " '(Reuters)',\n",
              " 'BEIJING (Reuters)',\n",
              " 'BEIJING (Reuters)',\n",
              " '(Reuters)',\n",
              " '(Reuters)',\n",
              " 'DANANG, Vietnam (Reuters)',\n",
              " 'SAN FRANCISCO (Reuters)',\n",
              " 'WASHINGTON (Reuters)',\n",
              " '(Reuters)',\n",
              " 'WASHINGTON (Reuters)',\n",
              " '(Reuters)',\n",
              " '(Reuters)',\n",
              " 'WASHINGTON (Reuters)',\n",
              " 'WASHINGTON (Reuters)',\n",
              " 'WASHINGTON (Reuters)',\n",
              " 'WASHINGTON (Reuters)',\n",
              " 'WASHINGTON (Reuters)',\n",
              " 'WASHINGTON (Reuters)',\n",
              " '(Reuters)',\n",
              " 'WASHINGTON (Reuters)',\n",
              " 'WASHINGTON (Reuters)',\n",
              " 'WASHINGTON (Reuters)',\n",
              " 'BEIJING (Reuters)',\n",
              " 'NEW YORK (Reuters)',\n",
              " 'WASHINGTON (Reuters)',\n",
              " 'WASHINGTON (Reuters)',\n",
              " 'WASHINGTON (Reuters)',\n",
              " 'WASHINGTON (Reuters)',\n",
              " 'WASHINGTON (Reuters)',\n",
              " 'WASHINGTON (Reuters)',\n",
              " 'WASHINGTON (Reuters)',\n",
              " 'DANANG, Vietnam (Reuters)',\n",
              " 'BEIJING/SHANGHAI (Reuters)',\n",
              " 'BRUSSELS (Reuters)',\n",
              " 'BEIJING (Reuters)',\n",
              " 'BEIJING (Reuters)',\n",
              " 'BEIJING (Reuters)',\n",
              " 'BEIJING (Reuters)',\n",
              " 'BEIJING (Reuters)',\n",
              " 'BEIJING (Reuters)',\n",
              " '(Reuters)',\n",
              " 'BEIJING (Reuters)',\n",
              " 'BEIJING (Reuters)',\n",
              " 'BEIJING (Reuters)',\n",
              " 'BEIJING (Reuters)',\n",
              " 'BEIJING (Reuters)',\n",
              " 'BEIJING (Reuters)',\n",
              " 'BEIJING (Reuters)',\n",
              " 'WASHINGTON (Reuters)',\n",
              " 'WASHINGTON (Reuters)',\n",
              " 'WASHINGTON (Reuters)',\n",
              " 'WASHINGTON/HAVANA (Reuters)',\n",
              " 'WASHINGTON (Reuters)',\n",
              " 'WASHINGTON (Reuters)',\n",
              " 'WASHINGTON (Reuters)',\n",
              " 'NEW YORK (Reuters)',\n",
              " 'WASHINGTON (Reuters)',\n",
              " 'WASHINGTON (Reuters)',\n",
              " '(Reuters)',\n",
              " 'WASHINGTON (Reuters)',\n",
              " 'WASHINGTON (Reuters)',\n",
              " 'NEW YORK (Reuters)',\n",
              " '(Reuters)',\n",
              " 'WASHINGTON (Reuters)',\n",
              " 'WASHINGTON (Reuters)',\n",
              " '(Reuters)',\n",
              " 'WASHINGTON (Reuters)',\n",
              " 'WASHINGTON (Reuters)',\n",
              " 'WASHINGTON (Reuters)',\n",
              " 'BEIJING (Reuters)',\n",
              " 'WASHINGTON (Reuters)',\n",
              " 'WASHINGTON (Reuters)',\n",
              " 'WASHINGTON (Reuters)',\n",
              " 'BEIJING (Reuters)',\n",
              " 'BEIJING (Reuters)',\n",
              " 'WASHINGTON (Reuters)',\n",
              " 'BEIJING (Reuters)',\n",
              " 'LONDON (Reuters)',\n",
              " 'NEW YORK (Reuters)',\n",
              " 'MOSCOW (Reuters)',\n",
              " 'WASHINGTON (Reuters)',\n",
              " 'BEIJING (Reuters)',\n",
              " 'BEIJING (Reuters)',\n",
              " '(Reuters)',\n",
              " 'WASHINGTON (Reuters)',\n",
              " '(Reuters)',\n",
              " '(Reuters)',\n",
              " 'WASHINGTON (Reuters)',\n",
              " 'BEIJING (Reuters)',\n",
              " 'BEIJING (Reuters)',\n",
              " 'WASHINGTON (Reuters)',\n",
              " 'SEOUL (Reuters)',\n",
              " 'WASHINGTON (Reuters)',\n",
              " 'WASHINGTON (Reuters)',\n",
              " 'LOUISVILLE, Ky. (Reuters)',\n",
              " 'WASHINGTON (Reuters)',\n",
              " 'WASHINGTON (Reuters)',\n",
              " '(Reuters)',\n",
              " 'WASHINGTON (Reuters)',\n",
              " 'WASHINGTON (Reuters)',\n",
              " 'SEOUL (Reuters)',\n",
              " 'WASHINGTON (Reuters)',\n",
              " 'WASHINGTON (Reuters)',\n",
              " 'WASHINGTON (Reuters)',\n",
              " 'WASHINGTON (Reuters)',\n",
              " 'WASHINGTON (Reuters)',\n",
              " 'WASHINGTON (Reuters)',\n",
              " 'WASHINGTON (Reuters)',\n",
              " 'WASHINGTON (Reuters)',\n",
              " 'WASHINGTON (Reuters)',\n",
              " 'WASHINGTON (Reuters)',\n",
              " '(Reuters)',\n",
              " 'TOKYO (Reuters)',\n",
              " 'MOSCOW (Reuters)',\n",
              " 'LONDON (Reuters)',\n",
              " 'MOSCOW (Reuters)',\n",
              " 'NEW DELHI (Reuters)',\n",
              " 'NEW YORK (Reuters)',\n",
              " '(Reuters)',\n",
              " 'TOKYO (Reuters)',\n",
              " 'TOKYO (Reuters)',\n",
              " 'TOKYO (Reuters)',\n",
              " 'TOKYO (Reuters)',\n",
              " 'BEIJING (Reuters)',\n",
              " 'WASHINGTON (Reuters)',\n",
              " 'WASHINGTON (Reuters)',\n",
              " 'WASHINGTON (Reuters)',\n",
              " 'WASHINGTON (Reuters)',\n",
              " 'LOUISVILLE/WASHINGTON (Reuters)',\n",
              " 'WASHINGTON (Reuters)',\n",
              " 'WASHINGTON (Reuters)',\n",
              " 'WASHINGTON/LONDON (Reuters)',\n",
              " 'WASHINGTON/KHOBAR, Saudi Arabia (Reuters)',\n",
              " 'YOKOTA AIR BASE, Japan (Reuters)',\n",
              " 'WASHINGTON (Reuters)',\n",
              " 'WASHINGTON (Reuters)',\n",
              " '(Reuters)',\n",
              " '(Reuters)',\n",
              " 'NEW YORK (Reuters)',\n",
              " 'WASHINGTON/SEOUL (Reuters)',\n",
              " 'WASHINGTON (Reuters)',\n",
              " 'WASHINGTON (Reuters)',\n",
              " 'HONOLULU (Reuters)',\n",
              " 'NEW YORK (Reuters)',\n",
              " 'ALMATY (Reuters)',\n",
              " 'WASHINGTON (Reuters)',\n",
              " 'WASHINGTON (Reuters)',\n",
              " 'WASHINGTON (Reuters)',\n",
              " 'WASHINGTON (Reuters)',\n",
              " 'Unknown',\n",
              " 'GENEVA (Reuters)',\n",
              " '(Reuters)',\n",
              " 'WASHINGTON (Reuters)',\n",
              " 'WASHINGTON (Reuters)',\n",
              " 'WASHINGTON (Reuters)',\n",
              " 'WASHINGTON (Reuters)',\n",
              " 'WASHINGTON (Reuters)',\n",
              " 'WASHINGTON (Reuters)',\n",
              " 'NEW YORK (Reuters)',\n",
              " 'WASHINGTON (Reuters)',\n",
              " 'TOKYO (Reuters)',\n",
              " 'WASHINGTON (Reuters)',\n",
              " 'Unknown',\n",
              " 'NEW YORK (Reuters)',\n",
              " 'BEIJING (Reuters)',\n",
              " 'BEIJING (Reuters)',\n",
              " 'BEIJING (Reuters)',\n",
              " 'WASHINGTON (Reuters)',\n",
              " 'WASHINGTON/PHNOM PENH (Reuters)',\n",
              " 'UNITED NATIONS (Reuters)',\n",
              " '(Reuters)',\n",
              " 'WASHINGTON (Reuters)',\n",
              " 'CHICAGO (Reuters)',\n",
              " 'NEW YORK (Reuters)',\n",
              " '(Reuters)',\n",
              " '(Reuters)',\n",
              " 'WASHINGTON (Reuters)',\n",
              " 'WASHINGTON (Reuters)',\n",
              " 'WASHINGTON (Reuters)',\n",
              " 'WASHINGTON (Reuters)',\n",
              " 'WASHINGTON (Reuters)',\n",
              " 'WASHINGTON (Reuters)',\n",
              " 'WASHINGTON (Reuters)',\n",
              " '(Reuters)',\n",
              " 'WASHINGTON/NEW YORK (Reuters)',\n",
              " 'WASHINGTON (Reuters)',\n",
              " 'WASHINGTON (Reuters)',\n",
              " 'WASHINGTON (Reuters)',\n",
              " 'WASHINGTON (Reuters)',\n",
              " 'WASHINGTON (Reuters)',\n",
              " 'WASHINGTON (Reuters)',\n",
              " 'WASHINGTON (Reuters)',\n",
              " 'WASHINGTON (Reuters)',\n",
              " 'WASHINGTON (Reuters)',\n",
              " '(Reuters)',\n",
              " 'WASHINGTON (Reuters)',\n",
              " 'FRONT ROYAL, Va. (Reuters)',\n",
              " 'NEW YORK (Reuters)',\n",
              " '(Reuters)',\n",
              " 'WASHINGTON (Reuters)',\n",
              " 'WASHINGTON (Reuters)',\n",
              " 'WASHINGTON (Reuters)',\n",
              " 'WASHINGTON (Reuters)',\n",
              " 'WASHINGTON (Reuters)',\n",
              " 'PATERSON, N.J. (Reuters)',\n",
              " 'WASHINGTON (Reuters)',\n",
              " 'WASHINGTON (Reuters)',\n",
              " 'WASHINGTON (Reuters)',\n",
              " 'WASHINGTON (Reuters)',\n",
              " 'WASHINGTON (Reuters)',\n",
              " 'WASHINGTON (Reuters)',\n",
              " 'WASHINGTON (Reuters)',\n",
              " 'WASHINGTON (Reuters)',\n",
              " 'WASHINGTON/NEW YORK (Reuters)',\n",
              " '(Reuters)',\n",
              " '(Reuters)',\n",
              " 'SAN FRANCISCO (Reuters)',\n",
              " 'WASHINGTON (Reuters)',\n",
              " 'WASHINGTON (Reuters)',\n",
              " 'WASHINGTON (Reuters)',\n",
              " 'WASHINGTON (Reuters)',\n",
              " 'WASHINGTON (Reuters)',\n",
              " 'WASHINGTON (Reuters)',\n",
              " '(Reuters)',\n",
              " 'WASHINGTON (Reuters)',\n",
              " 'WASHINGTON (Reuters)',\n",
              " '(Reuters)',\n",
              " '(Reuters)',\n",
              " 'LONDON, (Reuters)',\n",
              " 'WASHINGTON (Reuters)',\n",
              " 'WASHINGTON (Reuters)',\n",
              " 'WASHINGTON (Reuters)',\n",
              " 'WASHINGTON (Reuters)',\n",
              " 'WASHINGTON (Reuters)',\n",
              " 'WASHINGTON (Reuters)',\n",
              " 'WASHINGTON (Reuters)',\n",
              " 'WASHINGTON (Reuters)',\n",
              " 'WASHINGTON (Reuters)',\n",
              " 'WASHINGTON (Reuters)',\n",
              " 'WASHINGTON (Reuters)',\n",
              " 'SACRAMENTO, Calif. (Reuters)',\n",
              " 'WASHINGTON (Reuters)',\n",
              " 'WASHINGTON (Reuters)',\n",
              " 'WASHINGTON (Reuters)',\n",
              " 'WASHINGTON/NEW YORK (Reuters)',\n",
              " 'WASHINGTON (Reuters)',\n",
              " 'WASHINGTON (Reuters)',\n",
              " '(Reuters)',\n",
              " 'WASHINGTON (Reuters)',\n",
              " 'WASHINGTON (Reuters)',\n",
              " 'WASHINGTON (Reuters)',\n",
              " 'WASHINGTON (Reuters)',\n",
              " 'WASHINGTON (Reuters)',\n",
              " 'WASHINGTON (Reuters)',\n",
              " 'WASHINGTON (Reuters)',\n",
              " 'MOSCOW (Reuters)',\n",
              " 'WASHINGTON (Reuters)',\n",
              " 'WASHINGTON (Reuters)',\n",
              " 'WASHINGTON (Reuters)',\n",
              " 'WASHINGTON (Reuters)',\n",
              " 'WASHINGTON (Reuters)',\n",
              " 'MOSCOW (Reuters)',\n",
              " 'WASHINGTON (Reuters)',\n",
              " 'MOSCOW (Reuters)',\n",
              " 'BEIJING (Reuters)',\n",
              " 'CHICAGO (Reuters)',\n",
              " 'WASHINGTON (Reuters)',\n",
              " 'WASHINGTON (Reuters)',\n",
              " 'WASHINGTON (Reuters)',\n",
              " 'NEW YORK (Reuters)',\n",
              " '(Reuters)',\n",
              " 'WASHINGTON (Reuters)',\n",
              " 'WASHINGTON (Reuters)',\n",
              " 'NEW YORK (Reuters)',\n",
              " 'WASHINGTON (Reuters)',\n",
              " 'WASHINGTON (Reuters)',\n",
              " 'NEW YORK (Reuters)',\n",
              " 'WASHINGTON (Reuters)',\n",
              " 'WASHINGTON (Reuters)',\n",
              " 'WASHINGTON (Reuters)',\n",
              " 'WASHINGTON (Reuters)',\n",
              " '(Reuters)',\n",
              " 'WASHINGTON (Reuters)',\n",
              " 'WASHINGTON (Reuters)',\n",
              " 'WASHINGTON (Reuters)',\n",
              " 'WASHINGTON (Reuters)',\n",
              " 'WASHINGTON (Reuters)',\n",
              " 'WASHINGTON (Reuters)',\n",
              " 'WASHINGTON (Reuters)',\n",
              " 'WASHINGTON (Reuters)',\n",
              " 'WASHINGTON (Reuters)',\n",
              " 'WASHINGTON (Reuters)',\n",
              " 'WASHINGTON (Reuters)',\n",
              " 'WASHINGTON (Reuters)',\n",
              " 'WASHINGTON (Reuters)',\n",
              " 'NEW YORK (Reuters)',\n",
              " 'WASHINGTON/NEW YORK (Reuters)',\n",
              " 'KINSHASA (Reuters)',\n",
              " 'WASHINGTON (Reuters)',\n",
              " 'WASHINGTON (Reuters)',\n",
              " 'WASHINGTON (Reuters)',\n",
              " 'WASHINGTON (Reuters)',\n",
              " 'WASHINGTON (Reuters)',\n",
              " 'WASHINGTON (Reuters)',\n",
              " 'WASHINGTON (Reuters)',\n",
              " 'SAN FRANCISCO (Reuters)',\n",
              " 'WASHINGTON (Reuters)',\n",
              " 'WASHINGTON (Reuters)',\n",
              " 'WASHINGTON (Reuters)',\n",
              " 'WASHINGTON (Reuters)',\n",
              " 'SEOUL (Reuters)',\n",
              " ...]"
            ]
          },
          "metadata": {},
          "execution_count": 43
        }
      ]
    },
    {
      "cell_type": "code",
      "source": [
        "real_news['text'] = real_news['title'] + \" \" + real_news['text']\n",
        "fake_news['text'] = fake_news['title'] + \" \" + fake_news['text']"
      ],
      "metadata": {
        "id": "Z5Tka5jFDm6g"
      },
      "execution_count": null,
      "outputs": []
    },
    {
      "cell_type": "code",
      "source": [
        "real_news['text']  = real_news['text'].apply(lambda x: str(x).lower())\n",
        "fake_news['text'] = fake_news['text'].apply(lambda x: str(x).lower())"
      ],
      "metadata": {
        "id": "t--UZKrPDzTI"
      },
      "execution_count": null,
      "outputs": []
    },
    {
      "cell_type": "code",
      "source": [
        "real_news['class'] = 1\n",
        "fake_news['class'] = 0"
      ],
      "metadata": {
        "id": "ZNAVVhB1D6bV"
      },
      "execution_count": null,
      "outputs": []
    },
    {
      "cell_type": "code",
      "source": [
        "real_news = real_news[['text','class']]"
      ],
      "metadata": {
        "id": "X4gO9yjyEEcg"
      },
      "execution_count": null,
      "outputs": []
    },
    {
      "cell_type": "code",
      "source": [
        "fake_news = fake_news[['text', 'class']]"
      ],
      "metadata": {
        "id": "KqBgmg9xEHnE"
      },
      "execution_count": null,
      "outputs": []
    },
    {
      "cell_type": "code",
      "source": [
        "data = pd.concat([real_news, fake_news], ignore_index=True)"
      ],
      "metadata": {
        "id": "81MvYkiqEL7a"
      },
      "execution_count": null,
      "outputs": []
    },
    {
      "cell_type": "code",
      "source": [
        "data.sample(20)"
      ],
      "metadata": {
        "id": "HzFaj8jQERtB"
      },
      "execution_count": null,
      "outputs": []
    },
    {
      "cell_type": "markdown",
      "source": [
        "PREPROCESSING THE DATA"
      ],
      "metadata": {
        "id": "3wG1mxY0F396"
      }
    },
    {
      "cell_type": "code",
      "source": [
        "import re\n",
        "import unicodedata\n",
        "import pandas as pd"
      ],
      "metadata": {
        "id": "UoAZ7ruVF4-F"
      },
      "execution_count": null,
      "outputs": []
    },
    {
      "cell_type": "code",
      "source": [
        "def clean_text(text):\n",
        "\n",
        "    text = text.lower() # convert all text to lowercase\n",
        "    text = text.replace('\\\\', '') # remove all backslashes\n",
        "    text = text.replace('-', ' ') # remove any additional hyphens\n",
        "    text = re.sub(r'\\S+@\\S+', '', text) #remove emails\n",
        "    text = re.sub(r'@\\w+', '', text)  #remove twitter handle\n",
        "    text = re.sub(r'http\\S+|www\\S+|https\\S+', '', text, flags=re.MULTILINE) #remove urls\n",
        "    text = unicodedata.normalize('NFKD', text).encode('ascii', 'ignore').decode('utf-8', 'ignore')  # Remove accented characters\n",
        "    text = re.sub(r'[^a-zA-Z0-9\\s]', '', text) # Remove special characters and punctuation (keep only letters and numbers)\n",
        "    text = re.sub(r'\\s+', ' ', text).strip()    # Remove extra spaces\n",
        "\n",
        "    return text"
      ],
      "metadata": {
        "id": "BAQJmCJGF-_H"
      },
      "execution_count": null,
      "outputs": []
    },
    {
      "cell_type": "code",
      "source": [
        "data['text'] = data['text'].apply(clean_text)"
      ],
      "metadata": {
        "id": "jwBKJSHLGBUg"
      },
      "execution_count": null,
      "outputs": []
    },
    {
      "cell_type": "code",
      "source": [
        "data['text'].head()"
      ],
      "metadata": {
        "id": "-uJD5w3nGNxG"
      },
      "execution_count": null,
      "outputs": []
    },
    {
      "cell_type": "markdown",
      "source": [
        "using a vectorization technique such as Word2Vec to vectorize the data"
      ],
      "metadata": {
        "id": "wDZydUAwGspn"
      }
    },
    {
      "cell_type": "code",
      "source": [
        "y = data['class'].values\n"
      ],
      "metadata": {
        "id": "A3Otn_GOIVuh"
      },
      "execution_count": null,
      "outputs": []
    },
    {
      "cell_type": "code",
      "source": [
        "X=[d.split() for d in data['text'].tolist()]"
      ],
      "metadata": {
        "id": "0wXV1izNIee_"
      },
      "execution_count": null,
      "outputs": []
    },
    {
      "cell_type": "code",
      "source": [
        "print(X[0])"
      ],
      "metadata": {
        "colab": {
          "base_uri": "https://localhost:8080/"
        },
        "id": "cBDGN-JuJBe8",
        "outputId": "ecbdcd18-7f8e-4783-a6c0-2431a2d5fbe9"
      },
      "execution_count": null,
      "outputs": [
        {
          "output_type": "stream",
          "name": "stdout",
          "text": [
            "['as', 'us', 'budget', 'fight', 'looms', 'republicans', 'flip', 'their', 'fiscal', 'script', 'the', 'head', 'of', 'a', 'conservative', 'republican', 'faction', 'in', 'the', 'us', 'congress', 'who', 'voted', 'this', 'month', 'for', 'a', 'huge', 'expansion', 'of', 'the', 'national', 'debt', 'to', 'pay', 'for', 'tax', 'cuts', 'called', 'himself', 'a', 'fiscal', 'conservative', 'on', 'sunday', 'and', 'urged', 'budget', 'restraint', 'in', '2018', 'in', 'keeping', 'with', 'a', 'sharp', 'pivot', 'under', 'way', 'among', 'republicans', 'us', 'representative', 'mark', 'meadows', 'speaking', 'on', 'cbs', 'face', 'the', 'nation', 'drew', 'a', 'hard', 'line', 'on', 'federal', 'spending', 'which', 'lawmakers', 'are', 'bracing', 'to', 'do', 'battle', 'over', 'in', 'january', 'when', 'they', 'return', 'from', 'the', 'holidays', 'on', 'wednesday', 'lawmakers', 'will', 'begin', 'trying', 'to', 'pass', 'a', 'federal', 'budget', 'in', 'a', 'fight', 'likely', 'to', 'be', 'linked', 'to', 'other', 'issues', 'such', 'as', 'immigration', 'policy', 'even', 'as', 'the', 'november', 'congressional', 'election', 'campaigns', 'approach', 'in', 'which', 'republicans', 'will', 'seek', 'to', 'keep', 'control', 'of', 'congress', 'president', 'donald', 'trump', 'and', 'his', 'republicans', 'want', 'a', 'big', 'budget', 'increase', 'in', 'military', 'spending', 'while', 'democrats', 'also', 'want', 'proportional', 'increases', 'for', 'non', 'defense', 'discretionary', 'spending', 'on', 'programs', 'that', 'support', 'education', 'scientific', 'research', 'infrastructure', 'public', 'health', 'and', 'environmental', 'protection', 'the', 'trump', 'administration', 'has', 'already', 'been', 'willing', 'to', 'say', 'were', 'going', 'to', 'increase', 'non', 'defense', 'discretionary', 'spending', 'by', 'about', '7', 'percent', 'meadows', 'chairman', 'of', 'the', 'small', 'but', 'influential', 'house', 'freedom', 'caucus', 'said', 'on', 'the', 'program', 'now', 'democrats', 'are', 'saying', 'thats', 'not', 'enough', 'we', 'need', 'to', 'give', 'the', 'government', 'a', 'pay', 'raise', 'of', '10', 'to', '11', 'percent', 'for', 'a', 'fiscal', 'conservative', 'i', 'dont', 'see', 'where', 'the', 'rationale', 'is', 'eventually', 'you', 'run', 'out', 'of', 'other', 'peoples', 'money', 'he', 'said', 'meadows', 'was', 'among', 'republicans', 'who', 'voted', 'in', 'late', 'december', 'for', 'their', 'partys', 'debt', 'financed', 'tax', 'overhaul', 'which', 'is', 'expected', 'to', 'balloon', 'the', 'federal', 'budget', 'deficit', 'and', 'add', 'about', '15', 'trillion', 'over', '10', 'years', 'to', 'the', '20', 'trillion', 'national', 'debt', 'its', 'interesting', 'to', 'hear', 'mark', 'talk', 'about', 'fiscal', 'responsibility', 'democratic', 'us', 'representative', 'joseph', 'crowley', 'said', 'on', 'cbs', 'crowley', 'said', 'the', 'republican', 'tax', 'bill', 'would', 'require', 'the', 'united', 'states', 'to', 'borrow', '15', 'trillion', 'to', 'be', 'paid', 'off', 'by', 'future', 'generations', 'to', 'finance', 'tax', 'cuts', 'for', 'corporations', 'and', 'the', 'rich', 'this', 'is', 'one', 'of', 'the', 'least', 'fiscally', 'responsible', 'bills', 'weve', 'ever', 'seen', 'passed', 'in', 'the', 'history', 'of', 'the', 'house', 'of', 'representatives', 'i', 'think', 'were', 'going', 'to', 'be', 'paying', 'for', 'this', 'for', 'many', 'many', 'years', 'to', 'come', 'crowley', 'said', 'republicans', 'insist', 'the', 'tax', 'package', 'the', 'biggest', 'us', 'tax', 'overhaul', 'in', 'more', 'than', '30', 'years', 'will', 'boost', 'the', 'economy', 'and', 'job', 'growth', 'house', 'speaker', 'paul', 'ryan', 'who', 'also', 'supported', 'the', 'tax', 'bill', 'recently', 'went', 'further', 'than', 'meadows', 'making', 'clear', 'in', 'a', 'radio', 'interview', 'that', 'welfare', 'or', 'entitlement', 'reform', 'as', 'the', 'party', 'often', 'calls', 'it', 'would', 'be', 'a', 'top', 'republican', 'priority', 'in', '2018', 'in', 'republican', 'parlance', 'entitlement', 'programs', 'mean', 'food', 'stamps', 'housing', 'assistance', 'medicare', 'and', 'medicaid', 'health', 'insurance', 'for', 'the', 'elderly', 'poor', 'and', 'disabled', 'as', 'well', 'as', 'other', 'programs', 'created', 'by', 'washington', 'to', 'assist', 'the', 'needy', 'democrats', 'seized', 'on', 'ryans', 'early', 'december', 'remarks', 'saying', 'they', 'showed', 'republicans', 'would', 'try', 'to', 'pay', 'for', 'their', 'tax', 'overhaul', 'by', 'seeking', 'spending', 'cuts', 'for', 'social', 'programs', 'but', 'the', 'goals', 'of', 'house', 'republicans', 'may', 'have', 'to', 'take', 'a', 'back', 'seat', 'to', 'the', 'senate', 'where', 'the', 'votes', 'of', 'some', 'democrats', 'will', 'be', 'needed', 'to', 'approve', 'a', 'budget', 'and', 'prevent', 'a', 'government', 'shutdown', 'democrats', 'will', 'use', 'their', 'leverage', 'in', 'the', 'senate', 'which', 'republicans', 'narrowly', 'control', 'to', 'defend', 'both', 'discretionary', 'non', 'defense', 'programs', 'and', 'social', 'spending', 'while', 'tackling', 'the', 'issue', 'of', 'the', 'dreamers', 'people', 'brought', 'illegally', 'to', 'the', 'country', 'as', 'children', 'trump', 'in', 'september', 'put', 'a', 'march', '2018', 'expiration', 'date', 'on', 'the', 'deferred', 'action', 'for', 'childhood', 'arrivals', 'or', 'daca', 'program', 'which', 'protects', 'the', 'young', 'immigrants', 'from', 'deportation', 'and', 'provides', 'them', 'with', 'work', 'permits', 'the', 'president', 'has', 'said', 'in', 'recent', 'twitter', 'messages', 'he', 'wants', 'funding', 'for', 'his', 'proposed', 'mexican', 'border', 'wall', 'and', 'other', 'immigration', 'law', 'changes', 'in', 'exchange', 'for', 'agreeing', 'to', 'help', 'the', 'dreamers', 'representative', 'debbie', 'dingell', 'told', 'cbs', 'she', 'did', 'not', 'favor', 'linking', 'that', 'issue', 'to', 'other', 'policy', 'objectives', 'such', 'as', 'wall', 'funding', 'we', 'need', 'to', 'do', 'daca', 'clean', 'she', 'said', 'on', 'wednesday', 'trump', 'aides', 'will', 'meet', 'with', 'congressional', 'leaders', 'to', 'discuss', 'those', 'issues', 'that', 'will', 'be', 'followed', 'by', 'a', 'weekend', 'of', 'strategy', 'sessions', 'for', 'trump', 'and', 'republican', 'leaders', 'on', 'jan', '6', 'and', '7', 'the', 'white', 'house', 'said', 'trump', 'was', 'also', 'scheduled', 'to', 'meet', 'on', 'sunday', 'with', 'florida', 'republican', 'governor', 'rick', 'scott', 'who', 'wants', 'more', 'emergency', 'aid', 'the', 'house', 'has', 'passed', 'an', '81', 'billion', 'aid', 'package', 'after', 'hurricanes', 'in', 'florida', 'texas', 'and', 'puerto', 'rico', 'and', 'wildfires', 'in', 'california', 'the', 'package', 'far', 'exceeded', 'the', '44', 'billion', 'requested', 'by', 'the', 'trump', 'administration', 'the', 'senate', 'has', 'not', 'yet', 'voted', 'on', 'the', 'aid']\n"
          ]
        }
      ]
    },
    {
      "cell_type": "code",
      "source": [
        "DIM = 100\n",
        "w2v_model = gensim.models.Word2Vec(sentences=X, vector_size=DIM, window=10, min_count=1)"
      ],
      "metadata": {
        "id": "ueKApq9hJJDp"
      },
      "execution_count": null,
      "outputs": []
    },
    {
      "cell_type": "code",
      "source": [
        "len(w2v_model.wv.key_to_index)"
      ],
      "metadata": {
        "colab": {
          "base_uri": "https://localhost:8080/"
        },
        "id": "O_I9CrlLLagv",
        "outputId": "1b87679a-b568-49ff-919d-755632c6878f"
      },
      "execution_count": null,
      "outputs": [
        {
          "output_type": "execute_result",
          "data": {
            "text/plain": [
              "197506"
            ]
          },
          "metadata": {},
          "execution_count": 59
        }
      ]
    },
    {
      "cell_type": "code",
      "source": [
        "w2v_model.wv.most_similar('weather')"
      ],
      "metadata": {
        "colab": {
          "base_uri": "https://localhost:8080/"
        },
        "id": "svxtn_7zLx98",
        "outputId": "71435289-4386-4bec-a176-ec7b2639f229"
      },
      "execution_count": null,
      "outputs": [
        {
          "output_type": "execute_result",
          "data": {
            "text/plain": [
              "[('tropical', 0.7090049386024475),\n",
              " ('temperatures', 0.6580345630645752),\n",
              " ('storms', 0.6523522138595581),\n",
              " ('rains', 0.6515286564826965),\n",
              " ('irma', 0.6400080323219299),\n",
              " ('storm', 0.639491081237793),\n",
              " ('floods', 0.6376432180404663),\n",
              " ('flooding', 0.6265140771865845),\n",
              " ('landslides', 0.6157400608062744),\n",
              " ('winds', 0.611072838306427)]"
            ]
          },
          "metadata": {},
          "execution_count": 63
        }
      ]
    },
    {
      "cell_type": "code",
      "source": [
        "tokenizer = Tokenizer()\n",
        "tokenizer.fit_on_texts(X)"
      ],
      "metadata": {
        "id": "c5f7_sk-MC-A"
      },
      "execution_count": null,
      "outputs": []
    },
    {
      "cell_type": "code",
      "source": [
        "X = tokenizer.texts_to_sequences(X)"
      ],
      "metadata": {
        "id": "jqvzjGtcMIYA"
      },
      "execution_count": null,
      "outputs": []
    },
    {
      "cell_type": "code",
      "source": [
        "nos = np.fromiter((len(seq) for seq in X), dtype=int)\n",
        "count = np.sum(nos > 1000)\n",
        "print(count)"
      ],
      "metadata": {
        "colab": {
          "base_uri": "https://localhost:8080/"
        },
        "id": "woTPINRoNNIP",
        "outputId": "226ff3ca-4ea8-4372-e0ce-d4b54bdb138c"
      },
      "execution_count": null,
      "outputs": [
        {
          "output_type": "stream",
          "name": "stdout",
          "text": [
            "1641\n"
          ]
        }
      ]
    },
    {
      "cell_type": "code",
      "source": [
        "maxlen = 1000\n",
        "X = pad_sequences(X, maxlen=maxlen)"
      ],
      "metadata": {
        "id": "g_bLQMZQNVmz"
      },
      "execution_count": null,
      "outputs": []
    },
    {
      "cell_type": "code",
      "source": [
        "len(X[101])"
      ],
      "metadata": {
        "colab": {
          "base_uri": "https://localhost:8080/"
        },
        "id": "MYXfhua3NccG",
        "outputId": "c4ef0dd7-71c2-4f86-c0b5-4c7890876340"
      },
      "execution_count": null,
      "outputs": [
        {
          "output_type": "execute_result",
          "data": {
            "text/plain": [
              "1000"
            ]
          },
          "metadata": {},
          "execution_count": 71
        }
      ]
    },
    {
      "cell_type": "code",
      "source": [
        "vocab_size = len(tokenizer.word_index) + 1"
      ],
      "metadata": {
        "id": "Zwl6t1f6Nlko"
      },
      "execution_count": null,
      "outputs": []
    },
    {
      "cell_type": "code",
      "source": [
        "def create_embedding_matrix(w2v_model, tokenizer, embedding_dim, vocab_size):\n",
        "    embedding_matrix = np.zeros((vocab_size, embedding_dim))\n",
        "\n",
        "    for word, idx in tokenizer.word_index.items():\n",
        "        if word in w2v_model.wv:\n",
        "            embedding_vector = w2v_model.wv[word]\n",
        "            embedding_matrix[idx] = embedding_vector\n",
        "\n",
        "    return embedding_matrix"
      ],
      "metadata": {
        "id": "EA7VeVK9Np46"
      },
      "execution_count": null,
      "outputs": []
    },
    {
      "cell_type": "code",
      "source": [
        "embedding_vectors = create_embedding_matrix(w2v_model, tokenizer, 100, vocab_size)"
      ],
      "metadata": {
        "id": "zA5aGQ-WOEpu"
      },
      "execution_count": null,
      "outputs": []
    },
    {
      "cell_type": "code",
      "source": [
        "embedding_vectors.shape"
      ],
      "metadata": {
        "colab": {
          "base_uri": "https://localhost:8080/"
        },
        "id": "k7sIiqH5PHZp",
        "outputId": "522d1574-64e2-4bf9-952a-f38526338483"
      },
      "execution_count": null,
      "outputs": [
        {
          "output_type": "execute_result",
          "data": {
            "text/plain": [
              "(197507, 100)"
            ]
          },
          "metadata": {},
          "execution_count": 77
        }
      ]
    },
    {
      "cell_type": "markdown",
      "source": [
        "MODEL\n"
      ],
      "metadata": {
        "id": "WUyl5AWLPNK3"
      }
    },
    {
      "cell_type": "code",
      "source": [
        "from keras.layers import Dropout\n",
        "\n",
        "model = Sequential()\n",
        "model.add(Embedding(input_dim=vocab_size,\n",
        "                    output_dim=DIM,\n",
        "                    weights=[embedding_vectors],\n",
        "                    trainable=False))\n",
        "model.add(LSTM(units=128, dropout=0.2, recurrent_dropout=0.2))\n",
        "model.add(Dense(1, activation='sigmoid'))\n",
        "\n",
        "model.compile(optimizer='adam', loss='binary_crossentropy', metrics=['acc'])\n",
        "model.summary()"
      ],
      "metadata": {
        "id": "4WTMA3oTPPSO"
      },
      "execution_count": null,
      "outputs": []
    },
    {
      "cell_type": "code",
      "source": [
        "X_train, X_test, y_train, y_test = train_test_split(X,y)"
      ],
      "metadata": {
        "id": "chFAubVkQKZm"
      },
      "execution_count": null,
      "outputs": []
    },
    {
      "cell_type": "code",
      "source": [
        "history = model.fit(X_train, y_train,\n",
        "                    validation_split=0.3,\n",
        "                    epochs=5,\n",
        "                    batch_size=32,\n",
        "                    verbose=1)\n"
      ],
      "metadata": {
        "id": "q1ohVYENQXYd"
      },
      "execution_count": null,
      "outputs": []
    },
    {
      "cell_type": "code",
      "source": [
        "model.save('lstm_with_dropout.h5')"
      ],
      "metadata": {
        "colab": {
          "base_uri": "https://localhost:8080/"
        },
        "id": "__ERgRFiGFVa",
        "outputId": "27a39f33-259b-4da6-92b9-5d6d9f1ce9af"
      },
      "execution_count": null,
      "outputs": [
        {
          "output_type": "stream",
          "name": "stderr",
          "text": [
            "WARNING:absl:You are saving your model as an HDF5 file via `model.save()` or `keras.saving.save_model(model)`. This file format is considered legacy. We recommend using instead the native Keras format, e.g. `model.save('my_model.keras')` or `keras.saving.save_model(model, 'my_model.keras')`. \n"
          ]
        }
      ]
    },
    {
      "cell_type": "code",
      "source": [
        "# Plot Accuracy\n",
        "plt.figure(figsize=(12, 5))\n",
        "\n",
        "plt.subplot(1, 2, 1)\n",
        "plt.plot(history.history['acc'], label='Train Accuracy')\n",
        "plt.plot(history.history['val_acc'], label='Validation Accuracy')\n",
        "plt.title( 'LSTM Validation vs training graph')\n",
        "plt.xlabel('Epoch')\n",
        "plt.ylabel('Accuracy')\n",
        "plt.legend()"
      ],
      "metadata": {
        "colab": {
          "base_uri": "https://localhost:8080/",
          "height": 505
        },
        "id": "gRumS6XYD7w0",
        "outputId": "602d9a48-d67e-45c7-e7dc-df9e81049e59"
      },
      "execution_count": null,
      "outputs": [
        {
          "output_type": "execute_result",
          "data": {
            "text/plain": [
              "<matplotlib.legend.Legend at 0x7cd3133ba6d0>"
            ]
          },
          "metadata": {},
          "execution_count": 85
        },
        {
          "output_type": "display_data",
          "data": {
            "text/plain": [
              "<Figure size 1200x500 with 1 Axes>"
            ],
            "image/png": "[encoded data removed]"
          },
          "metadata": {}
        }
      ]
    },
    {
      "cell_type": "code",
      "source": [
        "# Plot Loss\n",
        "plt.subplot(1, 2, 2)\n",
        "plt.plot(history.history['loss'], label='Train Loss')\n",
        "plt.plot(history.history['val_loss'], label='Validation Loss')\n",
        "plt.title('Loss over Epochs for LSTM')\n",
        "plt.xlabel('Epoch')\n",
        "plt.ylabel('Loss')\n",
        "plt.legend()\n",
        "\n",
        "plt.tight_layout()\n",
        "plt.show()"
      ],
      "metadata": {
        "colab": {
          "base_uri": "https://localhost:8080/",
          "height": 487
        },
        "id": "qOv6iENkD8ZQ",
        "outputId": "3fc1d557-1874-40ab-cfaa-490fba90b27a"
      },
      "execution_count": null,
      "outputs": [
        {
          "output_type": "display_data",
          "data": {
            "text/plain": [
              "<Figure size 640x480 with 1 Axes>"
            ],
            "image/png": "[encoded data removed]"
          },
          "metadata": {}
        }
      ]
    },
    {
      "cell_type": "code",
      "source": [
        "from sklearn.metrics import classification_report, precision_score, recall_score, f1_score\n",
        "import numpy as np\n",
        "\n",
        "#Predict probabilities on test data\n",
        "y_probs = model.predict(X_test)\n",
        "\n",
        "# Convert probabilities to binary predictions\n",
        "y_pred = (y_probs > 0.5).astype(int)\n",
        "\n",
        "\n",
        "print(classification_report(y_test, y_pred))\n",
        "\n",
        "# calculate precision, f1 and recall\n",
        "precision = precision_score(y_test, y_pred)\n",
        "recall = recall_score(y_test, y_pred)\n",
        "f1 = f1_score(y_test, y_pred)\n",
        "\n",
        "print(f'Precision: {precision:.4f}')\n",
        "print(f'Recall: {recall:.4f}')\n",
        "print(f'F1-score: {f1:.4f}')\n"
      ],
      "metadata": {
        "colab": {
          "base_uri": "https://localhost:8080/"
        },
        "id": "EfiJHn6WLDDH",
        "outputId": "decc7534-2fd0-47bb-d618-2c62ecee6a53"
      },
      "execution_count": null,
      "outputs": [
        {
          "output_type": "stream",
          "name": "stdout",
          "text": [
            "\u001b[1m351/351\u001b[0m \u001b[32m━━━━━━━━━━━━━━━━━━━━\u001b[0m\u001b[37m\u001b[0m \u001b[1m5s\u001b[0m 13ms/step\n",
            "              precision    recall  f1-score   support\n",
            "\n",
            "           0       0.99      1.00      0.99      5890\n",
            "           1       1.00      0.99      0.99      5335\n",
            "\n",
            "    accuracy                           0.99     11225\n",
            "   macro avg       0.99      0.99      0.99     11225\n",
            "weighted avg       0.99      0.99      0.99     11225\n",
            "\n",
            "Precision: 0.9962\n",
            "Recall: 0.9897\n",
            "F1-score: 0.9929\n"
          ]
        }
      ]
    },
    {
      "cell_type": "code",
      "source": [
        "from sklearn.metrics import confusion_matrix, ConfusionMatrixDisplay\n",
        "import matplotlib.pyplot as plt\n",
        "import seaborn as sns\n",
        "\n",
        "#Predict and convert to binary\n",
        "y_probs = model.predict(X_test)\n",
        "y_pred = (y_probs > 0.5).astype(int)\n",
        "\n",
        "#confusion matrix\n",
        "cm = confusion_matrix(y_test, y_pred)\n",
        "\n",
        "# Plot with seaborn heatmap\n",
        "plt.figure(figsize=(6,4))\n",
        "sns.heatmap(cm, annot=True, fmt='d', cmap='Blues', xticklabels=['Fake', 'Real'], yticklabels=['Fake', 'Real'])\n",
        "plt.xlabel('Predicted')\n",
        "plt.ylabel('Actual')\n",
        "plt.title('Confusion Matrix For the LSTM')\n",
        "plt.show()\n"
      ],
      "metadata": {
        "colab": {
          "base_uri": "https://localhost:8080/",
          "height": 428
        },
        "id": "cn3b5qjsLPvt",
        "outputId": "2aaf88e6-ca36-4146-d82b-e7adee1ad762"
      },
      "execution_count": null,
      "outputs": [
        {
          "output_type": "stream",
          "name": "stdout",
          "text": [
            "\u001b[1m351/351\u001b[0m \u001b[32m━━━━━━━━━━━━━━━━━━━━\u001b[0m\u001b[37m\u001b[0m \u001b[1m5s\u001b[0m 14ms/step\n"
          ]
        },
        {
          "output_type": "display_data",
          "data": {
            "text/plain": [
              "<Figure size 600x400 with 2 Axes>"
            ],
            "image/png": "[encoded data removed]"
          },
          "metadata": {}
        }
      ]
    },
    {
      "cell_type": "code",
      "source": [
        "# check with real news from internet (verified)\n",
        "sample = [\"Trump teases possible US strike as Iran supreme leader warns America\"]\n",
        "seq = tokenizer.texts_to_sequences(sample)\n",
        "padded = pad_sequences(seq, maxlen=100)\n",
        "print(model.predict(padded))\n",
        "label = \"Real News\" if model.predict(padded)[0][0] > 0.5 else \"Fake News\"\n",
        "print(label)"
      ],
      "metadata": {
        "colab": {
          "base_uri": "https://localhost:8080/"
        },
        "id": "xYUat7hmuoLR",
        "outputId": "d9f6348f-9d10-4021-dda7-639833384850"
      },
      "execution_count": null,
      "outputs": [
        {
          "output_type": "stream",
          "name": "stdout",
          "text": [
            "\u001b[1m1/1\u001b[0m \u001b[32m━━━━━━━━━━━━━━━━━━━━\u001b[0m\u001b[37m\u001b[0m \u001b[1m0s\u001b[0m 75ms/step\n",
            "[[0.01164528]]\n",
            "\u001b[1m1/1\u001b[0m \u001b[32m━━━━━━━━━━━━━━━━━━━━\u001b[0m\u001b[37m\u001b[0m \u001b[1m0s\u001b[0m 48ms/step\n",
            "Fake News\n"
          ]
        }
      ]
    },
    {
      "cell_type": "code",
      "source": [
        "loss, acc = model.evaluate(X_test, y_test)\n",
        "print(f\"Test Accuracy: {acc:.4f}\")\n",
        "print(f\"Test Loss: {loss:.4f}\")"
      ],
      "metadata": {
        "colab": {
          "base_uri": "https://localhost:8080/"
        },
        "id": "VVmxUqcDuwkm",
        "outputId": "edde4f93-7e42-4f05-d6b2-4cada4a0b4df"
      },
      "execution_count": null,
      "outputs": [
        {
          "output_type": "stream",
          "name": "stdout",
          "text": [
            "\u001b[1m351/351\u001b[0m \u001b[32m━━━━━━━━━━━━━━━━━━━━\u001b[0m\u001b[37m\u001b[0m \u001b[1m5s\u001b[0m 15ms/step - acc: 0.9936 - loss: 0.0257\n",
            "Test Accuracy: 0.9933\n",
            "Test Loss: 0.0246\n"
          ]
        }
      ]
    },
    {
      "cell_type": "code",
      "source": [
        "import pickle\n",
        "with open('tokenizer.pickle', 'wb') as handle:\n",
        "    pickle.dump(tokenizer, handle, protocol=pickle.HIGHEST_PROTOCOL)"
      ],
      "metadata": {
        "id": "mBaUmSrAKPKQ"
      },
      "execution_count": null,
      "outputs": []
    }
  ]
}